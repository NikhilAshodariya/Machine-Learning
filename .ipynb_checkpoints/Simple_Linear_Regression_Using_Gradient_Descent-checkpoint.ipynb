{
 "cells": [
  {
   "cell_type": "code",
   "execution_count": 1,
   "metadata": {
    "collapsed": true
   },
   "outputs": [],
   "source": [
    "#importing libraries\n",
    "import numpy as np\n",
    "import pandas as pd\n",
    "import matplotlib.pyplot as plt"
   ]
  },
  {
   "cell_type": "code",
   "execution_count": 2,
   "metadata": {
    "collapsed": true
   },
   "outputs": [],
   "source": [
    "class LinearRegression:\n",
    "    #line y=b0+b1*x\n",
    "    def __init__(self,x,y):\n",
    "        self.x = np.array(x)\n",
    "        self.y = np.array(y)\n",
    "        self.b0=0\n",
    "        self.b1=0\n",
    "        self._checkNumberOfElement=30\n",
    "        self._error=[]\n",
    "        self._numberOfIterationHappened=0\n",
    "        self._alpha=0.01\n",
    "        self._maximumErrorValueStored=100\n",
    "        \n",
    "    def fit(self):\n",
    "        self._gradientDescent()\n",
    "        self.ynew=np.add(self.b0,self.b1*np.array(self.x))\n",
    "        pass\n",
    "    \n",
    "    def _gradientDescent(self):\n",
    "        #this loop should run till the error is < precision\n",
    "        while self._checkConverge()==False:\n",
    "            self.b0=self.b0-self._alpha*self._calculateErrorInb0()\n",
    "            self.b1-=self._alpha*self._calculateErrorInb1()\n",
    "            self._numberOfIterationHappened+=+1\n",
    "            if self._numberOfIterationHappened>=self._maximumErrorValueStored:\n",
    "                self._error=self._error[-self._checkNumberOfElement:]\n",
    "                \n",
    "      \n",
    "    def _checkConverge(self):\n",
    "        yhat=np.add(self.b0,self.b1*np.array(self.x))\n",
    "        error=np.sum(np.square(np.subtract(self.y,yhat)))/len(self.y)\n",
    "        self._error.append(error)\n",
    "        \n",
    "        temp=self._error[-self._checkNumberOfElement:]\n",
    "        \n",
    "        if self._checkIfAllSame(temp)==False  or self._numberOfIterationHappened<self._checkNumberOfElement:\n",
    "            return False\n",
    "        else:\n",
    "            return True\n",
    "        \n",
    "    def _checkIfAllSame(self,temp):\n",
    "        return all(x==temp[0] for x in temp)\n",
    "    \n",
    "    def _calculateErrorInb1(self):\n",
    "        yhat=np.add(self.b0,self.b1*np.array(self.x))\n",
    "        return np.sum(np.multiply(np.subtract(yhat,self.y),self.x))/len(self.y)\n",
    "    \n",
    "        pass\n",
    "    \n",
    "    def _calculateErrorInb0(self):\n",
    "        #x is a list\n",
    "        yhat=np.add(self.b0,self.b1*np.array(self.x))\n",
    "        return np.sum(np.subtract(yhat,self.y))/len(self.y)"
   ]
  },
  {
   "cell_type": "code",
   "execution_count": 3,
   "metadata": {},
   "outputs": [
    {
     "data": {
      "text/html": [
       "<div>\n",
       "<style>\n",
       "    .dataframe thead tr:only-child th {\n",
       "        text-align: right;\n",
       "    }\n",
       "\n",
       "    .dataframe thead th {\n",
       "        text-align: left;\n",
       "    }\n",
       "\n",
       "    .dataframe tbody tr th {\n",
       "        vertical-align: top;\n",
       "    }\n",
       "</style>\n",
       "<table border=\"1\" class=\"dataframe\">\n",
       "  <thead>\n",
       "    <tr style=\"text-align: right;\">\n",
       "      <th></th>\n",
       "      <th>x</th>\n",
       "      <th>y</th>\n",
       "    </tr>\n",
       "  </thead>\n",
       "  <tbody>\n",
       "    <tr>\n",
       "      <th>4</th>\n",
       "      <td>3</td>\n",
       "      <td>-2091</td>\n",
       "    </tr>\n",
       "    <tr>\n",
       "      <th>2</th>\n",
       "      <td>2</td>\n",
       "      <td>-1560</td>\n",
       "    </tr>\n",
       "    <tr>\n",
       "      <th>9</th>\n",
       "      <td>6</td>\n",
       "      <td>-4163</td>\n",
       "    </tr>\n",
       "  </tbody>\n",
       "</table>\n",
       "</div>"
      ],
      "text/plain": [
       "   x     y\n",
       "4  3 -2091\n",
       "2  2 -1560\n",
       "9  6 -4163"
      ]
     },
     "execution_count": 3,
     "metadata": {},
     "output_type": "execute_result"
    }
   ],
   "source": [
    "df=pd.read_csv(\"data/cdata.csv\")\n",
    "df.sample(3)"
   ]
  },
  {
   "cell_type": "code",
   "execution_count": 4,
   "metadata": {
    "collapsed": true
   },
   "outputs": [],
   "source": [
    "x=np.array(df['x'])\n",
    "y=np.array(df['y'])\n"
   ]
  },
  {
   "cell_type": "code",
   "execution_count": 5,
   "metadata": {},
   "outputs": [],
   "source": [
    "model=LinearRegression(x,y)\n",
    "model.fit()"
   ]
  },
  {
   "cell_type": "code",
   "execution_count": 6,
   "metadata": {},
   "outputs": [
    {
     "data": {
      "text/plain": [
       "-569.60169491522606"
      ]
     },
     "execution_count": 6,
     "metadata": {},
     "output_type": "execute_result"
    }
   ],
   "source": [
    "model.b0"
   ]
  },
  {
   "cell_type": "code",
   "execution_count": 7,
   "metadata": {},
   "outputs": [
    {
     "data": {
      "text/plain": [
       "-530.9067796610218"
      ]
     },
     "execution_count": 7,
     "metadata": {},
     "output_type": "execute_result"
    }
   ],
   "source": [
    "model.b1"
   ]
  },
  {
   "cell_type": "code",
   "execution_count": null,
   "metadata": {
    "collapsed": true
   },
   "outputs": [],
   "source": []
  },
  {
   "cell_type": "code",
   "execution_count": 8,
   "metadata": {},
   "outputs": [
    {
     "data": {
      "image/png": "[encoded data removed]",
      "text/plain": [
       "<matplotlib.figure.Figure at 0x7ff821d98cf8>"
      ]
     },
     "metadata": {},
     "output_type": "display_data"
    }
   ],
   "source": [
    "plt.scatter(x,y,color=\"black\")\n",
    "plt.plot(x,model.ynew)\n",
    "plt.show()"
   ]
  },
  {
   "cell_type": "code",
   "execution_count": null,
   "metadata": {
    "collapsed": true
   },
   "outputs": [],
   "source": []
  },
  {
   "cell_type": "code",
   "execution_count": null,
   "metadata": {
    "collapsed": true
   },
   "outputs": [],
   "source": []
  }
 ],
 "metadata": {
  "anaconda-cloud": {},
  "kernelspec": {
   "display_name": "Python 3",
   "language": "python",
   "name": "python3"
  },
  "language_info": {
   "codemirror_mode": {
    "name": "ipython",
    "version": 3
   },
   "file_extension": ".py",
   "mimetype": "text/x-python",
   "name": "python",
   "nbconvert_exporter": "python",
   "pygments_lexer": "ipython3",
   "version": "3.6.2"
  }
 },
 "nbformat": 4,
 "nbformat_minor": 1
}
