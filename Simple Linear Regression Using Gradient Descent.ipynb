{
 "cells": [
  {
   "cell_type": "code",
   "execution_count": 4,
   "metadata": {
    "collapsed": true
   },
   "outputs": [],
   "source": [
    "#importing libraries\n",
    "import numpy as np\n",
    "import pandas as pd\n",
    "import matplotlib.pyplot as plt"
   ]
  },
  {
   "cell_type": "code",
   "execution_count": 16,
   "metadata": {
    "collapsed": true
   },
   "outputs": [],
   "source": [
    "class LinearRegression:\n",
    "    #line y=b0+b1*x\n",
    "    def __init__(self,x,y):\n",
    "        self.x = np.array(x)\n",
    "        self.y = np.array(y)\n",
    "        self.b0=0\n",
    "        self.b1=0\n",
    "        self._checkNumberOfElement=30\n",
    "        self._error=[]\n",
    "        self._numberOfIterationHappened=0\n",
    "        self._alpha=0.01\n",
    "        self._maximumErrorValueStored=100\n",
    "        \n",
    "    def fit(self):\n",
    "        self._gradientDescent()\n",
    "        self.ynew=np.add(self.b0,self.b1*np.array(self.x))\n",
    "        pass\n",
    "    \n",
    "    def _gradientDescent(self):\n",
    "        #this loop should run till the error is < precision\n",
    "        while self._checkConverge()==False:\n",
    "            self.b0=self.b0-self._alpha*self._calculateErrorInb0()\n",
    "            self.b1-=self._alpha*self._calculateErrorInb1()\n",
    "            self._numberOfIterationHappened+=+1\n",
    "            if self._numberOfIterationHappened>=self._maximumErrorValueStored:\n",
    "                self._error=self._error[-self._checkNumberOfElement:]\n",
    "                \n",
    "      \n",
    "    def _checkConverge(self):\n",
    "        yhat=np.add(self.b0,self.b1*np.array(self.x))\n",
    "        error=np.sum(np.square(np.subtract(self.y,yhat)))/len(self.y)\n",
    "        self._error.append(error)\n",
    "        \n",
    "        temp=self._error[-self._checkNumberOfElement:]\n",
    "        \n",
    "        if self._checkIfAllSame(temp)==False  or self._numberOfIterationHappened<self._checkNumberOfElement:\n",
    "            return False\n",
    "        else:\n",
    "            return True\n",
    "        \n",
    "    def _checkIfAllSame(self,temp):\n",
    "        return all(x==temp[0] for x in temp)\n",
    "    \n",
    "    def _calculateErrorInb1(self):\n",
    "        yhat=np.add(self.b0,self.b1*np.array(self.x))\n",
    "        return np.sum(np.multiply(np.subtract(yhat,self.y),self.x))/len(self.y)\n",
    "    \n",
    "        pass\n",
    "    \n",
    "    def _calculateErrorInb0(self):\n",
    "        #x is a list\n",
    "        yhat=np.add(self.b0,self.b1*np.array(self.x))\n",
    "        return np.sum(np.subtract(yhat,self.y))/len(self.y)"
   ]
  },
  {
   "cell_type": "code",
   "execution_count": 17,
   "metadata": {
    "collapsed": false
   },
   "outputs": [
    {
     "data": {
      "text/html": [
       "<div>\n",
       "<table border=\"1\" class=\"dataframe\">\n",
       "  <thead>\n",
       "    <tr style=\"text-align: right;\">\n",
       "      <th></th>\n",
       "      <th>x</th>\n",
       "      <th>y</th>\n",
       "    </tr>\n",
       "  </thead>\n",
       "  <tbody>\n",
       "    <tr>\n",
       "      <th>5</th>\n",
       "      <td>4</td>\n",
       "      <td>-2878</td>\n",
       "    </tr>\n",
       "    <tr>\n",
       "      <th>3</th>\n",
       "      <td>3</td>\n",
       "      <td>-2220</td>\n",
       "    </tr>\n",
       "    <tr>\n",
       "      <th>0</th>\n",
       "      <td>1</td>\n",
       "      <td>-890</td>\n",
       "    </tr>\n",
       "  </tbody>\n",
       "</table>\n",
       "</div>"
      ],
      "text/plain": [
       "   x     y\n",
       "5  4 -2878\n",
       "3  3 -2220\n",
       "0  1  -890"
      ]
     },
     "execution_count": 17,
     "metadata": {},
     "output_type": "execute_result"
    }
   ],
   "source": [
    "df=pd.read_csv(\"cdata.csv\")\n",
    "df.sample(3)"
   ]
  },
  {
   "cell_type": "code",
   "execution_count": 18,
   "metadata": {
    "collapsed": true
   },
   "outputs": [],
   "source": [
    "x=np.array(df['x'])\n",
    "y=np.array(df['y'])\n"
   ]
  },
  {
   "cell_type": "code",
   "execution_count": 19,
   "metadata": {
    "collapsed": false
   },
   "outputs": [],
   "source": [
    "model=LinearRegression(x,y)\n",
    "model.fit()"
   ]
  },
  {
   "cell_type": "code",
   "execution_count": 20,
   "metadata": {
    "collapsed": false
   },
   "outputs": [
    {
     "data": {
      "text/plain": [
       "-569.60169491522606"
      ]
     },
     "execution_count": 20,
     "metadata": {},
     "output_type": "execute_result"
    }
   ],
   "source": [
    "model.b0"
   ]
  },
  {
   "cell_type": "code",
   "execution_count": 21,
   "metadata": {
    "collapsed": false
   },
   "outputs": [
    {
     "data": {
      "text/plain": [
       "-530.9067796610218"
      ]
     },
     "execution_count": 21,
     "metadata": {},
     "output_type": "execute_result"
    }
   ],
   "source": [
    "model.b1"
   ]
  },
  {
   "cell_type": "code",
   "execution_count": null,
   "metadata": {
    "collapsed": true
   },
   "outputs": [],
   "source": []
  },
  {
   "cell_type": "code",
   "execution_count": 15,
   "metadata": {
    "collapsed": false
   },
   "outputs": [
    {
     "data": {
      "image/png": "[encoded data removed]",
      "text/plain": [
       "<matplotlib.figure.Figure at 0x1e20888da90>"
      ]
     },
     "metadata": {},
     "output_type": "display_data"
    }
   ],
   "source": [
    "plt.scatter(x,y,color=\"black\")\n",
    "plt.plot(x,model.ynew)\n",
    "plt.show()"
   ]
  },
  {
   "cell_type": "code",
   "execution_count": null,
   "metadata": {
    "collapsed": true
   },
   "outputs": [],
   "source": []
  },
  {
   "cell_type": "code",
   "execution_count": null,
   "metadata": {
    "collapsed": true
   },
   "outputs": [],
   "source": []
  }
 ],
 "metadata": {
  "anaconda-cloud": {},
  "kernelspec": {
   "display_name": "Python [conda root]",
   "language": "python",
   "name": "conda-root-py"
  },
  "language_info": {
   "codemirror_mode": {
    "name": "ipython",
    "version": 3
   },
   "file_extension": ".py",
   "mimetype": "text/x-python",
   "name": "python",
   "nbconvert_exporter": "python",
   "pygments_lexer": "ipython3",
   "version": "3.5.2"
  }
 },
 "nbformat": 4,
 "nbformat_minor": 1
}
