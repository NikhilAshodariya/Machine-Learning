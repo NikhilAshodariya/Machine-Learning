{
 "cells": [
  {
   "cell_type": "code",
   "execution_count": 1,
   "metadata": {
    "collapsed": true
   },
   "outputs": [],
   "source": [
    "import pandas as pd\n",
    "import numpy as np\n",
    "import matplotlib.pyplot as plt\n",
    "import matplotlib.pyplot as plt\n",
    "import numpy as np\n",
    "\n",
    "from sklearn.cluster import AgglomerativeClustering\n",
    "from sklearn.metrics import pairwise_distances"
   ]
  },
  {
   "cell_type": "code",
   "execution_count": 2,
   "metadata": {
    "collapsed": true
   },
   "outputs": [],
   "source": [
    "df=pd.read_csv('data/iris.csv')"
   ]
  },
  {
   "cell_type": "code",
   "execution_count": 3,
   "metadata": {
    "collapsed": true
   },
   "outputs": [],
   "source": [
    "features=df.columns[:-1]"
   ]
  },
  {
   "cell_type": "code",
   "execution_count": 4,
   "metadata": {
    "collapsed": true
   },
   "outputs": [],
   "source": [
    "target=df.columns[-1]"
   ]
  },
  {
   "cell_type": "code",
   "execution_count": 5,
   "metadata": {
    "collapsed": true
   },
   "outputs": [],
   "source": [
    "lab=set(df[target])"
   ]
  },
  {
   "cell_type": "code",
   "execution_count": 6,
   "metadata": {},
   "outputs": [
    {
     "data": {
      "text/html": [
       "<div>\n",
       "<style>\n",
       "    .dataframe thead tr:only-child th {\n",
       "        text-align: right;\n",
       "    }\n",
       "\n",
       "    .dataframe thead th {\n",
       "        text-align: left;\n",
       "    }\n",
       "\n",
       "    .dataframe tbody tr th {\n",
       "        vertical-align: top;\n",
       "    }\n",
       "</style>\n",
       "<table border=\"1\" class=\"dataframe\">\n",
       "  <thead>\n",
       "    <tr style=\"text-align: right;\">\n",
       "      <th></th>\n",
       "      <th>Sepal-length</th>\n",
       "      <th>Sepal-width</th>\n",
       "      <th>Petal-length</th>\n",
       "      <th>Petal-width</th>\n",
       "      <th>Species</th>\n",
       "    </tr>\n",
       "  </thead>\n",
       "  <tbody>\n",
       "    <tr>\n",
       "      <th>113</th>\n",
       "      <td>5.7</td>\n",
       "      <td>2.5</td>\n",
       "      <td>5.0</td>\n",
       "      <td>2.0</td>\n",
       "      <td>virginica</td>\n",
       "    </tr>\n",
       "  </tbody>\n",
       "</table>\n",
       "</div>"
      ],
      "text/plain": [
       "     Sepal-length  Sepal-width  Petal-length  Petal-width    Species\n",
       "113           5.7          2.5           5.0          2.0  virginica"
      ]
     },
     "execution_count": 6,
     "metadata": {},
     "output_type": "execute_result"
    }
   ],
   "source": [
    "df.sample()"
   ]
  },
  {
   "cell_type": "code",
   "execution_count": 7,
   "metadata": {
    "collapsed": true
   },
   "outputs": [],
   "source": [
    "n_clusters=3"
   ]
  },
  {
   "cell_type": "code",
   "execution_count": 8,
   "metadata": {
    "collapsed": true
   },
   "outputs": [],
   "source": [
    "from sklearn.preprocessing import LabelEncoder"
   ]
  },
  {
   "cell_type": "code",
   "execution_count": 9,
   "metadata": {
    "collapsed": true
   },
   "outputs": [],
   "source": [
    "le=LabelEncoder()"
   ]
  },
  {
   "cell_type": "code",
   "execution_count": 10,
   "metadata": {
    "collapsed": true
   },
   "outputs": [],
   "source": [
    "df[target]=le.fit_transform(df[target])"
   ]
  },
  {
   "cell_type": "code",
   "execution_count": 11,
   "metadata": {
    "collapsed": true
   },
   "outputs": [],
   "source": [
    "def calculateDistance(X,y,n_clusters=3):\n",
    "\n",
    "    lis=[]\n",
    "    # Plot the distances\n",
    "    for index, metric in enumerate([\"cosine\", \"euclidean\", \"cityblock\"]):\n",
    "        avg_dist = np.zeros((n_clusters, n_clusters))\n",
    "        plt.figure(figsize=(5, 4.5))\n",
    "        for i in range(n_clusters):\n",
    "            for j in range(n_clusters):\n",
    "                avg_dist[i, j] = pairwise_distances(X[y == i], X[y == j],\n",
    "                                                    metric=metric).mean()\n",
    "        avg_dist /= avg_dist.max()\n",
    "        lis.append(avg_dist)\n",
    "    return lis\n"
   ]
  },
  {
   "cell_type": "code",
   "execution_count": 12,
   "metadata": {
    "collapsed": true
   },
   "outputs": [],
   "source": [
    "class Cluster:\n",
    "    def __init__(self):\n",
    "        pass\n",
    "    def __repr__(self):\n",
    "        return '(%s,%s)' % (self.left, self.right)\n",
    "    def add(self, clusters, grid, lefti, righti):\n",
    "        self.left = clusters[lefti]\n",
    "        self.right = clusters[righti]\n",
    "        for r in grid:\n",
    "            r[lefti] = min(r[lefti], r.pop(righti))\n",
    "        grid[lefti] = list(map(min, list(zip(grid[lefti], grid.pop(righti)))))\n",
    "        clusters.pop(righti)\n",
    "        return (clusters, grid)\n",
    "\n",
    "def agglomerate(labels, grid):\n",
    "    clusters = labels\n",
    "    while len(clusters) > 1:\n",
    "        print(clusters)\n",
    "        distances = [(1, 0, grid[1][0])]\n",
    "        for i,row in enumerate(grid[2:]):\n",
    "            distances += [(i+2, j, c) for j,c in enumerate(row[:i+2])]\n",
    "        j,i,_ = min(distances, key=lambda x:x[2])\n",
    "        c = Cluster()\n",
    "        clusters, grid = c.add(clusters, grid, i, j)\n",
    "        clusters[i] = c\n",
    "    return clusters.pop()"
   ]
  },
  {
   "cell_type": "code",
   "execution_count": null,
   "metadata": {
    "collapsed": true
   },
   "outputs": [],
   "source": []
  },
  {
   "cell_type": "code",
   "execution_count": 13,
   "metadata": {
    "collapsed": true
   },
   "outputs": [],
   "source": [
    "def agglomerativeClustering(X,y,n_clusters=3,labels = ('Type 1', 'Type 2', 'Type 3')):\n",
    "\n",
    "    # Plot the distances\n",
    "    for index, metric in enumerate([\"cosine\", \"euclidean\", \"cityblock\"]):\n",
    "        avg_dist = np.zeros((n_clusters, n_clusters))\n",
    "        plt.figure(figsize=(5, 4.5))\n",
    "        for i in range(n_clusters):\n",
    "            for j in range(n_clusters):\n",
    "                avg_dist[i, j] = pairwise_distances(X[y == i], X[y == j],\n",
    "                                                    metric=metric).mean()\n",
    "        avg_dist /= avg_dist.max()\n",
    "        for i in range(n_clusters):\n",
    "            for j in range(n_clusters):\n",
    "                plt.text(i, j, '%5.3f' % avg_dist[i, j],\n",
    "                         verticalalignment='center',\n",
    "                         horizontalalignment='center')\n",
    "\n",
    "        plt.imshow(avg_dist, interpolation='nearest', cmap=plt.cm.gnuplot2,\n",
    "                   vmin=0)\n",
    "        plt.xticks(range(n_clusters), labels, rotation=45)\n",
    "        plt.yticks(range(n_clusters), labels)\n",
    "        plt.colorbar()\n",
    "        plt.suptitle(\"Interclass %s distances\" % metric, size=18)\n",
    "        plt.tight_layout()\n",
    "    plt.show()"
   ]
  },
  {
   "cell_type": "code",
   "execution_count": null,
   "metadata": {},
   "outputs": [],
   "source": []
  },
  {
   "cell_type": "code",
   "execution_count": 14,
   "metadata": {},
   "outputs": [],
   "source": [
    "lis=calculateDistance(df[features],df[target])"
   ]
  },
  {
   "cell_type": "code",
   "execution_count": 15,
   "metadata": {},
   "outputs": [
    {
     "data": {
      "text/plain": [
       "['versicolor', 'setosa', 'virginica']"
      ]
     },
     "execution_count": 15,
     "metadata": {},
     "output_type": "execute_result"
    }
   ],
   "source": [
    "list(lab)"
   ]
  },
  {
   "cell_type": "code",
   "execution_count": 16,
   "metadata": {
    "collapsed": true
   },
   "outputs": [],
   "source": [
    "temp=[\"cosine\", \"euclidean\", \"cityblock\"]"
   ]
  },
  {
   "cell_type": "code",
   "execution_count": 17,
   "metadata": {},
   "outputs": [
    {
     "name": "stdout",
     "output_type": "stream",
     "text": [
      "--------For  cosine -------\n",
      "['versicolor', 'setosa', 'virginica']\n",
      "['versicolor', (setosa,virginica)]\n",
      "------End of  cosine -------\n",
      "\n",
      "\n",
      "--------For  euclidean -------\n",
      "['versicolor', 'setosa', 'virginica']\n",
      "['versicolor', (setosa,virginica)]\n",
      "------End of  euclidean -------\n",
      "\n",
      "\n",
      "--------For  cityblock -------\n",
      "['versicolor', 'setosa', 'virginica']\n",
      "['versicolor', (setosa,virginica)]\n",
      "------End of  cityblock -------\n",
      "\n",
      "\n"
     ]
    }
   ],
   "source": [
    "for lisIndex,i in enumerate(lis):\n",
    "    print('--------For ',temp[lisIndex],'-------')\n",
    "    agglomerate(list(lab),i.tolist())\n",
    "    print('------End of ',temp[lisIndex],'-------')\n",
    "    print()\n",
    "    print()"
   ]
  },
  {
   "cell_type": "code",
   "execution_count": null,
   "metadata": {
    "collapsed": true
   },
   "outputs": [],
   "source": []
  },
  {
   "cell_type": "code",
   "execution_count": 18,
   "metadata": {
    "scrolled": false
   },
   "outputs": [
    {
     "data": {
      "text/plain": [
       "<matplotlib.figure.Figure at 0x7f2b566984a8>"
      ]
     },
     "metadata": {},
     "output_type": "display_data"
    },
    {
     "data": {
      "text/plain": [
       "<matplotlib.figure.Figure at 0x7f2b56693668>"
      ]
     },
     "metadata": {},
     "output_type": "display_data"
    },
    {
     "data": {
      "text/plain": [
       "<matplotlib.figure.Figure at 0x7f2b56693898>"
      ]
     },
     "metadata": {},
     "output_type": "display_data"
    },
    {
     "data": {
      "image/png": "[encoded data removed]",
      "text/plain": [
       "<matplotlib.figure.Figure at 0x7f2b56698898>"
      ]
     },
     "metadata": {},
     "output_type": "display_data"
    },
    {
     "data": {
      "image/png": "[encoded data removed]",
      "text/plain": [
       "<matplotlib.figure.Figure at 0x7f2b5325ef98>"
      ]
     },
     "metadata": {},
     "output_type": "display_data"
    },
    {
     "data": {
      "image/png": "[encoded data removed]",
      "text/plain": [
       "<matplotlib.figure.Figure at 0x7f2b8c671780>"
      ]
     },
     "metadata": {},
     "output_type": "display_data"
    }
   ],
   "source": [
    "agglomerativeClustering(df[features],df[target],labels=lab)"
   ]
  },
  {
   "cell_type": "code",
   "execution_count": null,
   "metadata": {
    "collapsed": true
   },
   "outputs": [],
   "source": []
  }
 ],
 "metadata": {
  "kernelspec": {
   "display_name": "Python 3",
   "language": "python",
   "name": "python3"
  },
  "language_info": {
   "codemirror_mode": {
    "name": "ipython",
    "version": 3
   },
   "file_extension": ".py",
   "mimetype": "text/x-python",
   "name": "python",
   "nbconvert_exporter": "python",
   "pygments_lexer": "ipython3",
   "version": "3.6.2"
  }
 },
 "nbformat": 4,
 "nbformat_minor": 2
}
