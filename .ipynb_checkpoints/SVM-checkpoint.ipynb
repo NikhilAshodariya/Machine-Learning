{
 "cells": [
  {
   "cell_type": "code",
   "execution_count": 1,
   "metadata": {},
   "outputs": [
    {
     "name": "stderr",
     "output_type": "stream",
     "text": [
      "/home/nikhil/anaconda3/lib/python3.6/site-packages/sklearn/cross_validation.py:41: DeprecationWarning: This module was deprecated in version 0.18 in favor of the model_selection module into which all the refactored classes and functions are moved. Also note that the interface of the new CV iterators are different from that of this module. This module will be removed in 0.20.\n",
      "  \"This module will be removed in 0.20.\", DeprecationWarning)\n"
     ]
    }
   ],
   "source": [
    "#importing libraries\n",
    "import numpy as np\n",
    "import pandas as pd\n",
    "from sklearn import datasets, svm \n",
    "from sklearn.cross_validation import train_test_split\n",
    "from sklearn.metrics import accuracy_score\n",
    "from sklearn.preprocessing import LabelEncoder\n",
    "import matplotlib.pyplot as plt\n",
    "%matplotlib inline"
   ]
  },
  {
   "cell_type": "code",
   "execution_count": 2,
   "metadata": {},
   "outputs": [],
   "source": [
    "iris=pd.read_csv('data/iris.csv')"
   ]
  },
  {
   "cell_type": "code",
   "execution_count": 3,
   "metadata": {},
   "outputs": [
    {
     "data": {
      "text/html": [
       "<div>\n",
       "<style>\n",
       "    .dataframe thead tr:only-child th {\n",
       "        text-align: right;\n",
       "    }\n",
       "\n",
       "    .dataframe thead th {\n",
       "        text-align: left;\n",
       "    }\n",
       "\n",
       "    .dataframe tbody tr th {\n",
       "        vertical-align: top;\n",
       "    }\n",
       "</style>\n",
       "<table border=\"1\" class=\"dataframe\">\n",
       "  <thead>\n",
       "    <tr style=\"text-align: right;\">\n",
       "      <th></th>\n",
       "      <th>Sepal-length</th>\n",
       "      <th>Sepal-width</th>\n",
       "      <th>Petal-length</th>\n",
       "      <th>Petal-width</th>\n",
       "      <th>Species</th>\n",
       "    </tr>\n",
       "  </thead>\n",
       "  <tbody>\n",
       "    <tr>\n",
       "      <th>146</th>\n",
       "      <td>6.3</td>\n",
       "      <td>2.5</td>\n",
       "      <td>5.0</td>\n",
       "      <td>1.9</td>\n",
       "      <td>virginica</td>\n",
       "    </tr>\n",
       "    <tr>\n",
       "      <th>77</th>\n",
       "      <td>6.7</td>\n",
       "      <td>3.0</td>\n",
       "      <td>5.0</td>\n",
       "      <td>1.7</td>\n",
       "      <td>versicolor</td>\n",
       "    </tr>\n",
       "    <tr>\n",
       "      <th>0</th>\n",
       "      <td>5.1</td>\n",
       "      <td>3.5</td>\n",
       "      <td>1.4</td>\n",
       "      <td>0.2</td>\n",
       "      <td>setosa</td>\n",
       "    </tr>\n",
       "  </tbody>\n",
       "</table>\n",
       "</div>"
      ],
      "text/plain": [
       "     Sepal-length  Sepal-width  Petal-length  Petal-width     Species\n",
       "146           6.3          2.5           5.0          1.9   virginica\n",
       "77            6.7          3.0           5.0          1.7  versicolor\n",
       "0             5.1          3.5           1.4          0.2      setosa"
      ]
     },
     "execution_count": 3,
     "metadata": {},
     "output_type": "execute_result"
    }
   ],
   "source": [
    "iris.sample(3)"
   ]
  },
  {
   "cell_type": "code",
   "execution_count": 4,
   "metadata": {
    "collapsed": true
   },
   "outputs": [],
   "source": [
    "encoder=LabelEncoder()"
   ]
  },
  {
   "cell_type": "code",
   "execution_count": 5,
   "metadata": {
    "collapsed": true
   },
   "outputs": [],
   "source": [
    "iris['Species']=encoder.fit_transform(iris['Species'])"
   ]
  },
  {
   "cell_type": "code",
   "execution_count": 6,
   "metadata": {},
   "outputs": [
    {
     "data": {
      "text/html": [
       "<div>\n",
       "<style>\n",
       "    .dataframe thead tr:only-child th {\n",
       "        text-align: right;\n",
       "    }\n",
       "\n",
       "    .dataframe thead th {\n",
       "        text-align: left;\n",
       "    }\n",
       "\n",
       "    .dataframe tbody tr th {\n",
       "        vertical-align: top;\n",
       "    }\n",
       "</style>\n",
       "<table border=\"1\" class=\"dataframe\">\n",
       "  <thead>\n",
       "    <tr style=\"text-align: right;\">\n",
       "      <th></th>\n",
       "      <th>Sepal-length</th>\n",
       "      <th>Sepal-width</th>\n",
       "      <th>Petal-length</th>\n",
       "      <th>Petal-width</th>\n",
       "      <th>Species</th>\n",
       "    </tr>\n",
       "  </thead>\n",
       "  <tbody>\n",
       "    <tr>\n",
       "      <th>48</th>\n",
       "      <td>5.3</td>\n",
       "      <td>3.7</td>\n",
       "      <td>1.5</td>\n",
       "      <td>0.2</td>\n",
       "      <td>0</td>\n",
       "    </tr>\n",
       "  </tbody>\n",
       "</table>\n",
       "</div>"
      ],
      "text/plain": [
       "    Sepal-length  Sepal-width  Petal-length  Petal-width  Species\n",
       "48           5.3          3.7           1.5          0.2        0"
      ]
     },
     "execution_count": 6,
     "metadata": {},
     "output_type": "execute_result"
    }
   ],
   "source": [
    "iris.sample()"
   ]
  },
  {
   "cell_type": "code",
   "execution_count": 7,
   "metadata": {
    "collapsed": true
   },
   "outputs": [],
   "source": [
    "features=iris.columns[:-1]\n",
    "target=iris.columns[-1]"
   ]
  },
  {
   "cell_type": "code",
   "execution_count": 8,
   "metadata": {},
   "outputs": [],
   "source": [
    "train,test=train_test_split(iris,test_size=0.4)"
   ]
  },
  {
   "cell_type": "code",
   "execution_count": 9,
   "metadata": {},
   "outputs": [
    {
     "name": "stdout",
     "output_type": "stream",
     "text": [
      "96.66666666666667 % accuracy obtained with kernel = linear\n",
      "93.33333333333333 % accuracy obtained with kernel = poly\n",
      "96.66666666666667 % accuracy obtained with kernel = rbf\n"
     ]
    }
   ],
   "source": [
    "kernels = ('linear','poly','rbf')\n",
    "accuracies = []\n",
    "for index, kernel in enumerate(kernels):\n",
    "    model = svm.SVC(kernel=kernel)\n",
    "    model.fit(train[features], train[target])\n",
    "    predicted=model.predict(test[features])\n",
    "    acc = accuracy_score(test[target],predicted)*100\n",
    "    accuracies.append(acc)\n",
    "    print(\"{} % accuracy obtained with kernel = {}\".format(acc, kernel))"
   ]
  },
  {
   "cell_type": "markdown",
   "metadata": {},
   "source": [
    "# Visualize the decision boundaries"
   ]
  },
  {
   "cell_type": "code",
   "execution_count": 10,
   "metadata": {
    "collapsed": true
   },
   "outputs": [],
   "source": [
    "features=features[:2]\n",
    "#since the features petal-length and petal-width can be easily classified so we take first two features"
   ]
  },
  {
   "cell_type": "code",
   "execution_count": 11,
   "metadata": {},
   "outputs": [],
   "source": [
    "svc = svm.SVC(kernel='linear').fit(train[features],train[target] )\n",
    "rbf_svc = svm.SVC(kernel='rbf', gamma=0.8).fit(train[features], train[target])\n",
    "poly_svc = svm.SVC(kernel='poly', degree=4).fit(train[features], train[target])"
   ]
  },
  {
   "cell_type": "code",
   "execution_count": 12,
   "metadata": {},
   "outputs": [],
   "source": [
    "#Create a mesh to plot in\n",
    "h = .02  # step size in the mesh\n",
    "x_min, x_max = iris[iris.columns[0]].min() - 1, iris[iris.columns[0]].max() + 1\n",
    "y_min, y_max = iris[iris.columns[1]].min() - 1, iris[iris.columns[1]].max() + 1\n",
    "xx, yy = np.meshgrid(np.arange(x_min, x_max, h),\n",
    "                     np.arange(y_min, y_max, h))"
   ]
  },
  {
   "cell_type": "code",
   "execution_count": 13,
   "metadata": {},
   "outputs": [
    {
     "data": {
      "image/png": "[encoded data removed]",
      "text/plain": [
       "<matplotlib.figure.Figure at 0x7f79719a6d30>"
      ]
     },
     "metadata": {},
     "output_type": "display_data"
    },
    {
     "data": {
      "image/png": "[encoded data removed]",
      "text/plain": [
       "<matplotlib.figure.Figure at 0x7f796e626b70>"
      ]
     },
     "metadata": {},
     "output_type": "display_data"
    },
    {
     "data": {
      "image/png": "[encoded data removed]",
      "text/plain": [
       "<matplotlib.figure.Figure at 0x7f796e550908>"
      ]
     },
     "metadata": {},
     "output_type": "display_data"
    }
   ],
   "source": [
    "#Define title for the plots\n",
    "titles = ['SVC with linear kernel',\n",
    "          'SVC with RBF kernel',\n",
    "          'SVC with polynomial (degree 4) kernel']\n",
    "\n",
    "\n",
    "for i, model in enumerate((svc, rbf_svc, poly_svc)):\n",
    "    # Plot the decision boundary. For that, we will assign a color to each\n",
    "    # point in the mesh [x_min, m_max]x[y_min, y_max].\n",
    "    plt.figure(i)\n",
    "\n",
    "    Z = model.predict(np.c_[xx.ravel(), yy.ravel()])# ravel returns continuous flaten array\n",
    "\n",
    "    # Put the result into a color plot\n",
    "    Z = Z.reshape(xx.shape)\n",
    "    plt.contourf(xx, yy, Z, cmap=plt.cm.Paired, alpha=0.8)\n",
    "    #cmap stands for color map you can also make it to None\n",
    "\n",
    "    \n",
    "    \n",
    "    # Plot also the training points\n",
    "    plt.scatter(iris[features[0]], iris[features[1]], c=iris[target], cmap=plt.cm.ocean)\n",
    "    plt.xlabel('Sepal length')\n",
    "    plt.ylabel('Sepal width')\n",
    "    plt.xlim(xx.min(), xx.max())\n",
    "    plt.ylim(yy.min(), yy.max())\n",
    "    plt.xticks(())\n",
    "    plt.yticks(())\n",
    "    plt.title(titles[i])\n",
    "\n",
    "plt.show()"
   ]
  },
  {
   "cell_type": "code",
   "execution_count": 14,
   "metadata": {},
   "outputs": [
    {
     "name": "stdout",
     "output_type": "stream",
     "text": [
      "The support vectors for linear kernel are:\n",
      " [[ 5.8  4. ]\n",
      " [ 4.5  2.3]\n",
      " [ 5.5  3.5]\n",
      " [ 5.   3. ]\n",
      " [ 4.9  3. ]\n",
      " [ 5.   3.2]\n",
      " [ 6.2  2.9]\n",
      " [ 5.1  2.5]\n",
      " [ 7.   3.2]\n",
      " [ 5.7  3. ]\n",
      " [ 6.2  2.2]\n",
      " [ 5.7  2.9]\n",
      " [ 6.   3.4]\n",
      " [ 6.   2.7]\n",
      " [ 5.9  3.2]\n",
      " [ 6.   2.2]\n",
      " [ 6.   2.9]\n",
      " [ 5.6  3. ]\n",
      " [ 6.5  2.8]\n",
      " [ 6.4  2.9]\n",
      " [ 6.7  3.1]\n",
      " [ 6.6  2.9]\n",
      " [ 4.9  2.4]\n",
      " [ 6.3  3.3]\n",
      " [ 6.6  3. ]\n",
      " [ 6.1  3. ]\n",
      " [ 6.1  2.8]\n",
      " [ 5.6  2.9]\n",
      " [ 5.6  2.5]\n",
      " [ 5.7  2.8]\n",
      " [ 6.7  3.3]\n",
      " [ 6.5  3. ]\n",
      " [ 6.1  2.6]\n",
      " [ 5.8  2.8]\n",
      " [ 6.7  2.5]\n",
      " [ 6.5  3.2]\n",
      " [ 6.3  3.4]\n",
      " [ 6.5  3. ]\n",
      " [ 6.4  2.7]\n",
      " [ 5.7  2.5]\n",
      " [ 6.3  3.3]\n",
      " [ 6.5  3. ]\n",
      " [ 6.4  2.8]\n",
      " [ 6.3  2.7]\n",
      " [ 6.4  2.8]\n",
      " [ 6.   2.2]\n",
      " [ 5.8  2.7]\n",
      " [ 6.   3. ]\n",
      " [ 6.7  3.3]\n",
      " [ 5.9  3. ]\n",
      " [ 6.1  3. ]]\n",
      "\n",
      "\n",
      "The support vectors for radial basis function are:\n",
      " [[ 5.8  4. ]\n",
      " [ 5.4  3.7]\n",
      " [ 4.5  2.3]\n",
      " [ 5.5  3.5]\n",
      " [ 5.7  4.4]\n",
      " [ 5.   3. ]\n",
      " [ 4.9  3. ]\n",
      " [ 4.8  3. ]\n",
      " [ 6.2  2.9]\n",
      " [ 5.1  2.5]\n",
      " [ 7.   3.2]\n",
      " [ 5.7  3. ]\n",
      " [ 6.2  2.2]\n",
      " [ 5.7  2.9]\n",
      " [ 6.   3.4]\n",
      " [ 6.   2.7]\n",
      " [ 5.9  3.2]\n",
      " [ 6.   2.2]\n",
      " [ 6.   2.9]\n",
      " [ 5.6  3. ]\n",
      " [ 6.5  2.8]\n",
      " [ 6.4  2.9]\n",
      " [ 6.7  3.1]\n",
      " [ 6.6  2.9]\n",
      " [ 4.9  2.4]\n",
      " [ 6.3  3.3]\n",
      " [ 6.6  3. ]\n",
      " [ 6.1  3. ]\n",
      " [ 6.1  2.8]\n",
      " [ 5.   2. ]\n",
      " [ 5.6  2.9]\n",
      " [ 5.6  2.5]\n",
      " [ 5.7  2.8]\n",
      " [ 6.5  3. ]\n",
      " [ 6.1  2.6]\n",
      " [ 5.8  2.8]\n",
      " [ 6.7  2.5]\n",
      " [ 6.5  3.2]\n",
      " [ 6.3  3.4]\n",
      " [ 6.5  3. ]\n",
      " [ 6.4  2.7]\n",
      " [ 5.7  2.5]\n",
      " [ 6.3  3.3]\n",
      " [ 6.5  3. ]\n",
      " [ 6.4  2.8]\n",
      " [ 6.3  2.7]\n",
      " [ 6.4  2.8]\n",
      " [ 7.9  3.8]\n",
      " [ 6.   2.2]\n",
      " [ 5.8  2.7]\n",
      " [ 6.   3. ]\n",
      " [ 6.7  3.3]\n",
      " [ 7.4  2.8]\n",
      " [ 5.9  3. ]\n",
      " [ 6.1  3. ]\n",
      " [ 7.6  3. ]]\n",
      "\n",
      "\n",
      "The support vectors for polynomial kernel are:\n",
      " [[ 4.5  2.3]\n",
      " [ 5.5  3.5]\n",
      " [ 6.2  2.9]\n",
      " [ 7.   3.2]\n",
      " [ 5.7  3. ]\n",
      " [ 6.2  2.2]\n",
      " [ 5.7  2.9]\n",
      " [ 6.   3.4]\n",
      " [ 6.   2.7]\n",
      " [ 5.9  3.2]\n",
      " [ 6.   2.2]\n",
      " [ 6.   2.9]\n",
      " [ 6.5  2.8]\n",
      " [ 5.5  2.5]\n",
      " [ 6.4  2.9]\n",
      " [ 6.7  3.1]\n",
      " [ 6.6  2.9]\n",
      " [ 4.9  2.4]\n",
      " [ 6.3  3.3]\n",
      " [ 6.6  3. ]\n",
      " [ 6.1  3. ]\n",
      " [ 6.1  2.8]\n",
      " [ 5.6  2.5]\n",
      " [ 5.7  2.8]\n",
      " [ 6.5  3. ]\n",
      " [ 6.1  2.6]\n",
      " [ 5.8  2.8]\n",
      " [ 6.7  2.5]\n",
      " [ 6.5  3.2]\n",
      " [ 6.3  3.4]\n",
      " [ 6.5  3. ]\n",
      " [ 6.4  2.7]\n",
      " [ 5.7  2.5]\n",
      " [ 6.3  3.3]\n",
      " [ 6.5  3. ]\n",
      " [ 6.4  2.8]\n",
      " [ 6.3  2.7]\n",
      " [ 6.4  2.8]\n",
      " [ 6.   2.2]\n",
      " [ 5.8  2.7]\n",
      " [ 6.   3. ]\n",
      " [ 5.9  3. ]\n",
      " [ 6.1  3. ]]\n"
     ]
    }
   ],
   "source": [
    "#Checking the support vectors of the linear kernel\n",
    "print(\"The support vectors for linear kernel are:\\n\", svc.support_vectors_)\n",
    "print()\n",
    "print()\n",
    "\n",
    "#Checking the support vectors of the rbf kernel\n",
    "print(\"The support vectors for radial basis function are:\\n\", rbf_svc.support_vectors_)\n",
    "print()\n",
    "print()\n",
    "\n",
    "#Checking the support vectors of the polynomial kernel (for example)\n",
    "print(\"The support vectors for polynomial kernel are:\\n\", poly_svc.support_vectors_)\n"
   ]
  }
 ],
 "metadata": {
  "anaconda-cloud": {},
  "kernelspec": {
   "display_name": "Python 3",
   "language": "python",
   "name": "python3"
  },
  "language_info": {
   "codemirror_mode": {
    "name": "ipython",
    "version": 3
   },
   "file_extension": ".py",
   "mimetype": "text/x-python",
   "name": "python",
   "nbconvert_exporter": "python",
   "pygments_lexer": "ipython3",
   "version": "3.6.2"
  }
 },
 "nbformat": 4,
 "nbformat_minor": 1
}
