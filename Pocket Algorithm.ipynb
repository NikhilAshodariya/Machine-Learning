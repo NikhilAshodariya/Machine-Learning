{
 "cells": [
  {
   "cell_type": "markdown",
   "metadata": {},
   "source": [
    "# Pocket Algorithm using Sonar dataset"
   ]
  },
  {
   "cell_type": "markdown",
   "metadata": {},
   "source": [
    "#### Pocket algorithm is a modified version of Perceptron algorithm"
   ]
  },
  {
   "cell_type": "markdown",
   "metadata": {},
   "source": [
    "https://archive.ics.uci.edu/ml/machine-learning-databases/undocumented/connectionist-bench/sonar/"
   ]
  },
  {
   "cell_type": "code",
   "execution_count": 1,
   "metadata": {},
   "outputs": [],
   "source": [
    "import numpy as np\n",
    "import pandas as pd\n",
    "import random\n",
    "import math\n",
    "import matplotlib.pyplot as plt\n",
    "from PIL import Image\n",
    "from sklearn.decomposition import PCA\n",
    "from sklearn.model_selection import train_test_split\n",
    "from sklearn.metrics import accuracy_score\n",
    "from sklearn.preprocessing import LabelEncoder\n",
    "%matplotlib inline"
   ]
  },
  {
   "cell_type": "code",
   "execution_count": 2,
   "metadata": {},
   "outputs": [],
   "source": [
    "epoches = 50"
   ]
  },
  {
   "cell_type": "code",
   "execution_count": 3,
   "metadata": {},
   "outputs": [],
   "source": [
    "df = pd.read_csv(\"../Data/sonar-all-data.csv\")"
   ]
  },
  {
   "cell_type": "code",
   "execution_count": 4,
   "metadata": {},
   "outputs": [
    {
     "data": {
      "text/html": [
       "<div>\n",
       "<style scoped>\n",
       "    .dataframe tbody tr th:only-of-type {\n",
       "        vertical-align: middle;\n",
       "    }\n",
       "\n",
       "    .dataframe tbody tr th {\n",
       "        vertical-align: top;\n",
       "    }\n",
       "\n",
       "    .dataframe thead th {\n",
       "        text-align: right;\n",
       "    }\n",
       "</style>\n",
       "<table border=\"1\" class=\"dataframe\">\n",
       "  <thead>\n",
       "    <tr style=\"text-align: right;\">\n",
       "      <th></th>\n",
       "      <th>1</th>\n",
       "      <th>2</th>\n",
       "      <th>3</th>\n",
       "      <th>4</th>\n",
       "      <th>5</th>\n",
       "      <th>6</th>\n",
       "      <th>7</th>\n",
       "      <th>8</th>\n",
       "      <th>9</th>\n",
       "      <th>10</th>\n",
       "      <th>...</th>\n",
       "      <th>52</th>\n",
       "      <th>53</th>\n",
       "      <th>54</th>\n",
       "      <th>55</th>\n",
       "      <th>56</th>\n",
       "      <th>57</th>\n",
       "      <th>58</th>\n",
       "      <th>59</th>\n",
       "      <th>60</th>\n",
       "      <th>output</th>\n",
       "    </tr>\n",
       "  </thead>\n",
       "  <tbody>\n",
       "    <tr>\n",
       "      <th>0</th>\n",
       "      <td>0.02</td>\n",
       "      <td>0.0371</td>\n",
       "      <td>0.0428</td>\n",
       "      <td>0.0207</td>\n",
       "      <td>0.0954</td>\n",
       "      <td>0.0986</td>\n",
       "      <td>0.1539</td>\n",
       "      <td>0.1601</td>\n",
       "      <td>0.3109</td>\n",
       "      <td>0.2111</td>\n",
       "      <td>...</td>\n",
       "      <td>0.0027</td>\n",
       "      <td>0.0065</td>\n",
       "      <td>0.0159</td>\n",
       "      <td>0.0072</td>\n",
       "      <td>0.0167</td>\n",
       "      <td>0.018</td>\n",
       "      <td>0.0084</td>\n",
       "      <td>0.009</td>\n",
       "      <td>0.0032</td>\n",
       "      <td>R</td>\n",
       "    </tr>\n",
       "  </tbody>\n",
       "</table>\n",
       "<p>1 rows × 61 columns</p>\n",
       "</div>"
      ],
      "text/plain": [
       "      1       2       3       4       5       6       7       8       9  \\\n",
       "0  0.02  0.0371  0.0428  0.0207  0.0954  0.0986  0.1539  0.1601  0.3109   \n",
       "\n",
       "       10   ...        52      53      54      55      56     57      58  \\\n",
       "0  0.2111   ...    0.0027  0.0065  0.0159  0.0072  0.0167  0.018  0.0084   \n",
       "\n",
       "      59      60  output  \n",
       "0  0.009  0.0032       R  \n",
       "\n",
       "[1 rows x 61 columns]"
      ]
     },
     "execution_count": 4,
     "metadata": {},
     "output_type": "execute_result"
    }
   ],
   "source": [
    "df.head(1)"
   ]
  },
  {
   "cell_type": "markdown",
   "metadata": {},
   "source": [
    "#### Replacing -1 for Rock\n",
    "#### Replacing 1 for Mines"
   ]
  },
  {
   "cell_type": "code",
   "execution_count": 5,
   "metadata": {},
   "outputs": [],
   "source": [
    "df['output'] = df['output'].replace(['R'], -1)"
   ]
  },
  {
   "cell_type": "code",
   "execution_count": 6,
   "metadata": {},
   "outputs": [],
   "source": [
    "df['output'] = df['output'].replace(['M'], 1)"
   ]
  },
  {
   "cell_type": "code",
   "execution_count": 7,
   "metadata": {},
   "outputs": [],
   "source": [
    "df_train,df_test = train_test_split(df,test_size = 0.33)"
   ]
  },
  {
   "cell_type": "code",
   "execution_count": 8,
   "metadata": {},
   "outputs": [
    {
     "data": {
      "text/html": [
       "<div>\n",
       "<style scoped>\n",
       "    .dataframe tbody tr th:only-of-type {\n",
       "        vertical-align: middle;\n",
       "    }\n",
       "\n",
       "    .dataframe tbody tr th {\n",
       "        vertical-align: top;\n",
       "    }\n",
       "\n",
       "    .dataframe thead th {\n",
       "        text-align: right;\n",
       "    }\n",
       "</style>\n",
       "<table border=\"1\" class=\"dataframe\">\n",
       "  <thead>\n",
       "    <tr style=\"text-align: right;\">\n",
       "      <th></th>\n",
       "      <th>1</th>\n",
       "      <th>2</th>\n",
       "      <th>3</th>\n",
       "      <th>4</th>\n",
       "      <th>5</th>\n",
       "      <th>6</th>\n",
       "      <th>7</th>\n",
       "      <th>8</th>\n",
       "      <th>9</th>\n",
       "      <th>10</th>\n",
       "      <th>...</th>\n",
       "      <th>52</th>\n",
       "      <th>53</th>\n",
       "      <th>54</th>\n",
       "      <th>55</th>\n",
       "      <th>56</th>\n",
       "      <th>57</th>\n",
       "      <th>58</th>\n",
       "      <th>59</th>\n",
       "      <th>60</th>\n",
       "      <th>output</th>\n",
       "    </tr>\n",
       "  </thead>\n",
       "  <tbody>\n",
       "    <tr>\n",
       "      <th>188</th>\n",
       "      <td>0.0089</td>\n",
       "      <td>0.0274</td>\n",
       "      <td>0.0248</td>\n",
       "      <td>0.0237</td>\n",
       "      <td>0.0224</td>\n",
       "      <td>0.0845</td>\n",
       "      <td>0.1488</td>\n",
       "      <td>0.1224</td>\n",
       "      <td>0.1569</td>\n",
       "      <td>0.2119</td>\n",
       "      <td>...</td>\n",
       "      <td>0.0096</td>\n",
       "      <td>0.0103</td>\n",
       "      <td>0.0093</td>\n",
       "      <td>0.0025</td>\n",
       "      <td>0.0044</td>\n",
       "      <td>0.0021</td>\n",
       "      <td>0.0069</td>\n",
       "      <td>0.0060</td>\n",
       "      <td>0.0018</td>\n",
       "      <td>1</td>\n",
       "    </tr>\n",
       "    <tr>\n",
       "      <th>94</th>\n",
       "      <td>0.0025</td>\n",
       "      <td>0.0309</td>\n",
       "      <td>0.0171</td>\n",
       "      <td>0.0228</td>\n",
       "      <td>0.0434</td>\n",
       "      <td>0.1224</td>\n",
       "      <td>0.1947</td>\n",
       "      <td>0.1661</td>\n",
       "      <td>0.1368</td>\n",
       "      <td>0.1430</td>\n",
       "      <td>...</td>\n",
       "      <td>0.0149</td>\n",
       "      <td>0.0077</td>\n",
       "      <td>0.0036</td>\n",
       "      <td>0.0114</td>\n",
       "      <td>0.0085</td>\n",
       "      <td>0.0101</td>\n",
       "      <td>0.0016</td>\n",
       "      <td>0.0028</td>\n",
       "      <td>0.0014</td>\n",
       "      <td>-1</td>\n",
       "    </tr>\n",
       "  </tbody>\n",
       "</table>\n",
       "<p>2 rows × 61 columns</p>\n",
       "</div>"
      ],
      "text/plain": [
       "          1       2       3       4       5       6       7       8       9  \\\n",
       "188  0.0089  0.0274  0.0248  0.0237  0.0224  0.0845  0.1488  0.1224  0.1569   \n",
       "94   0.0025  0.0309  0.0171  0.0228  0.0434  0.1224  0.1947  0.1661  0.1368   \n",
       "\n",
       "         10   ...        52      53      54      55      56      57      58  \\\n",
       "188  0.2119   ...    0.0096  0.0103  0.0093  0.0025  0.0044  0.0021  0.0069   \n",
       "94   0.1430   ...    0.0149  0.0077  0.0036  0.0114  0.0085  0.0101  0.0016   \n",
       "\n",
       "         59      60  output  \n",
       "188  0.0060  0.0018       1  \n",
       "94   0.0028  0.0014      -1  \n",
       "\n",
       "[2 rows x 61 columns]"
      ]
     },
     "execution_count": 8,
     "metadata": {},
     "output_type": "execute_result"
    }
   ],
   "source": [
    "df_train.head(2)"
   ]
  },
  {
   "cell_type": "code",
   "execution_count": 9,
   "metadata": {},
   "outputs": [
    {
     "data": {
      "text/html": [
       "<div>\n",
       "<style scoped>\n",
       "    .dataframe tbody tr th:only-of-type {\n",
       "        vertical-align: middle;\n",
       "    }\n",
       "\n",
       "    .dataframe tbody tr th {\n",
       "        vertical-align: top;\n",
       "    }\n",
       "\n",
       "    .dataframe thead th {\n",
       "        text-align: right;\n",
       "    }\n",
       "</style>\n",
       "<table border=\"1\" class=\"dataframe\">\n",
       "  <thead>\n",
       "    <tr style=\"text-align: right;\">\n",
       "      <th></th>\n",
       "      <th>1</th>\n",
       "      <th>2</th>\n",
       "      <th>3</th>\n",
       "      <th>4</th>\n",
       "      <th>5</th>\n",
       "      <th>6</th>\n",
       "      <th>7</th>\n",
       "      <th>8</th>\n",
       "      <th>9</th>\n",
       "      <th>10</th>\n",
       "      <th>...</th>\n",
       "      <th>52</th>\n",
       "      <th>53</th>\n",
       "      <th>54</th>\n",
       "      <th>55</th>\n",
       "      <th>56</th>\n",
       "      <th>57</th>\n",
       "      <th>58</th>\n",
       "      <th>59</th>\n",
       "      <th>60</th>\n",
       "      <th>output</th>\n",
       "    </tr>\n",
       "  </thead>\n",
       "  <tbody>\n",
       "    <tr>\n",
       "      <th>53</th>\n",
       "      <td>0.0293</td>\n",
       "      <td>0.0378</td>\n",
       "      <td>0.0257</td>\n",
       "      <td>0.0062</td>\n",
       "      <td>0.0130</td>\n",
       "      <td>0.0612</td>\n",
       "      <td>0.0895</td>\n",
       "      <td>0.1107</td>\n",
       "      <td>0.0973</td>\n",
       "      <td>0.0751</td>\n",
       "      <td>...</td>\n",
       "      <td>0.0065</td>\n",
       "      <td>0.0072</td>\n",
       "      <td>0.0108</td>\n",
       "      <td>0.0051</td>\n",
       "      <td>0.0102</td>\n",
       "      <td>0.0041</td>\n",
       "      <td>0.0055</td>\n",
       "      <td>0.0050</td>\n",
       "      <td>0.0087</td>\n",
       "      <td>-1</td>\n",
       "    </tr>\n",
       "    <tr>\n",
       "      <th>118</th>\n",
       "      <td>0.0363</td>\n",
       "      <td>0.0478</td>\n",
       "      <td>0.0298</td>\n",
       "      <td>0.0210</td>\n",
       "      <td>0.1409</td>\n",
       "      <td>0.1916</td>\n",
       "      <td>0.1349</td>\n",
       "      <td>0.1613</td>\n",
       "      <td>0.1703</td>\n",
       "      <td>0.1444</td>\n",
       "      <td>...</td>\n",
       "      <td>0.0115</td>\n",
       "      <td>0.0190</td>\n",
       "      <td>0.0055</td>\n",
       "      <td>0.0096</td>\n",
       "      <td>0.0050</td>\n",
       "      <td>0.0066</td>\n",
       "      <td>0.0114</td>\n",
       "      <td>0.0073</td>\n",
       "      <td>0.0033</td>\n",
       "      <td>1</td>\n",
       "    </tr>\n",
       "  </tbody>\n",
       "</table>\n",
       "<p>2 rows × 61 columns</p>\n",
       "</div>"
      ],
      "text/plain": [
       "          1       2       3       4       5       6       7       8       9  \\\n",
       "53   0.0293  0.0378  0.0257  0.0062  0.0130  0.0612  0.0895  0.1107  0.0973   \n",
       "118  0.0363  0.0478  0.0298  0.0210  0.1409  0.1916  0.1349  0.1613  0.1703   \n",
       "\n",
       "         10   ...        52      53      54      55      56      57      58  \\\n",
       "53   0.0751   ...    0.0065  0.0072  0.0108  0.0051  0.0102  0.0041  0.0055   \n",
       "118  0.1444   ...    0.0115  0.0190  0.0055  0.0096  0.0050  0.0066  0.0114   \n",
       "\n",
       "         59      60  output  \n",
       "53   0.0050  0.0087      -1  \n",
       "118  0.0073  0.0033       1  \n",
       "\n",
       "[2 rows x 61 columns]"
      ]
     },
     "execution_count": 9,
     "metadata": {},
     "output_type": "execute_result"
    }
   ],
   "source": [
    "df_test.head(2)"
   ]
  },
  {
   "cell_type": "code",
   "execution_count": 10,
   "metadata": {},
   "outputs": [],
   "source": [
    "x_train, y_train = df_train.drop(\"output\",axis=1),pd.DataFrame(df_train[\"output\"])"
   ]
  },
  {
   "cell_type": "code",
   "execution_count": 11,
   "metadata": {},
   "outputs": [
    {
     "data": {
      "text/html": [
       "<div>\n",
       "<style scoped>\n",
       "    .dataframe tbody tr th:only-of-type {\n",
       "        vertical-align: middle;\n",
       "    }\n",
       "\n",
       "    .dataframe tbody tr th {\n",
       "        vertical-align: top;\n",
       "    }\n",
       "\n",
       "    .dataframe thead th {\n",
       "        text-align: right;\n",
       "    }\n",
       "</style>\n",
       "<table border=\"1\" class=\"dataframe\">\n",
       "  <thead>\n",
       "    <tr style=\"text-align: right;\">\n",
       "      <th></th>\n",
       "      <th>1</th>\n",
       "      <th>2</th>\n",
       "      <th>3</th>\n",
       "      <th>4</th>\n",
       "      <th>5</th>\n",
       "      <th>6</th>\n",
       "      <th>7</th>\n",
       "      <th>8</th>\n",
       "      <th>9</th>\n",
       "      <th>10</th>\n",
       "      <th>...</th>\n",
       "      <th>51</th>\n",
       "      <th>52</th>\n",
       "      <th>53</th>\n",
       "      <th>54</th>\n",
       "      <th>55</th>\n",
       "      <th>56</th>\n",
       "      <th>57</th>\n",
       "      <th>58</th>\n",
       "      <th>59</th>\n",
       "      <th>60</th>\n",
       "    </tr>\n",
       "  </thead>\n",
       "  <tbody>\n",
       "    <tr>\n",
       "      <th>188</th>\n",
       "      <td>0.0089</td>\n",
       "      <td>0.0274</td>\n",
       "      <td>0.0248</td>\n",
       "      <td>0.0237</td>\n",
       "      <td>0.0224</td>\n",
       "      <td>0.0845</td>\n",
       "      <td>0.1488</td>\n",
       "      <td>0.1224</td>\n",
       "      <td>0.1569</td>\n",
       "      <td>0.2119</td>\n",
       "      <td>...</td>\n",
       "      <td>0.0199</td>\n",
       "      <td>0.0096</td>\n",
       "      <td>0.0103</td>\n",
       "      <td>0.0093</td>\n",
       "      <td>0.0025</td>\n",
       "      <td>0.0044</td>\n",
       "      <td>0.0021</td>\n",
       "      <td>0.0069</td>\n",
       "      <td>0.006</td>\n",
       "      <td>0.0018</td>\n",
       "    </tr>\n",
       "  </tbody>\n",
       "</table>\n",
       "<p>1 rows × 60 columns</p>\n",
       "</div>"
      ],
      "text/plain": [
       "          1       2       3       4       5       6       7       8       9  \\\n",
       "188  0.0089  0.0274  0.0248  0.0237  0.0224  0.0845  0.1488  0.1224  0.1569   \n",
       "\n",
       "         10   ...        51      52      53      54      55      56      57  \\\n",
       "188  0.2119   ...    0.0199  0.0096  0.0103  0.0093  0.0025  0.0044  0.0021   \n",
       "\n",
       "         58     59      60  \n",
       "188  0.0069  0.006  0.0018  \n",
       "\n",
       "[1 rows x 60 columns]"
      ]
     },
     "execution_count": 11,
     "metadata": {},
     "output_type": "execute_result"
    }
   ],
   "source": [
    "x_train.head(1)"
   ]
  },
  {
   "cell_type": "code",
   "execution_count": 12,
   "metadata": {},
   "outputs": [
    {
     "data": {
      "text/html": [
       "<div>\n",
       "<style scoped>\n",
       "    .dataframe tbody tr th:only-of-type {\n",
       "        vertical-align: middle;\n",
       "    }\n",
       "\n",
       "    .dataframe tbody tr th {\n",
       "        vertical-align: top;\n",
       "    }\n",
       "\n",
       "    .dataframe thead th {\n",
       "        text-align: right;\n",
       "    }\n",
       "</style>\n",
       "<table border=\"1\" class=\"dataframe\">\n",
       "  <thead>\n",
       "    <tr style=\"text-align: right;\">\n",
       "      <th></th>\n",
       "      <th>output</th>\n",
       "    </tr>\n",
       "  </thead>\n",
       "  <tbody>\n",
       "    <tr>\n",
       "      <th>188</th>\n",
       "      <td>1</td>\n",
       "    </tr>\n",
       "  </tbody>\n",
       "</table>\n",
       "</div>"
      ],
      "text/plain": [
       "     output\n",
       "188       1"
      ]
     },
     "execution_count": 12,
     "metadata": {},
     "output_type": "execute_result"
    }
   ],
   "source": [
    "y_train.head(1)"
   ]
  },
  {
   "cell_type": "code",
   "execution_count": 13,
   "metadata": {},
   "outputs": [],
   "source": [
    "x_test, y_test = df_test.drop(\"output\",axis=1),pd.DataFrame(df_test[\"output\"])"
   ]
  },
  {
   "cell_type": "code",
   "execution_count": 14,
   "metadata": {},
   "outputs": [
    {
     "data": {
      "text/html": [
       "<div>\n",
       "<style scoped>\n",
       "    .dataframe tbody tr th:only-of-type {\n",
       "        vertical-align: middle;\n",
       "    }\n",
       "\n",
       "    .dataframe tbody tr th {\n",
       "        vertical-align: top;\n",
       "    }\n",
       "\n",
       "    .dataframe thead th {\n",
       "        text-align: right;\n",
       "    }\n",
       "</style>\n",
       "<table border=\"1\" class=\"dataframe\">\n",
       "  <thead>\n",
       "    <tr style=\"text-align: right;\">\n",
       "      <th></th>\n",
       "      <th>1</th>\n",
       "      <th>2</th>\n",
       "      <th>3</th>\n",
       "      <th>4</th>\n",
       "      <th>5</th>\n",
       "      <th>6</th>\n",
       "      <th>7</th>\n",
       "      <th>8</th>\n",
       "      <th>9</th>\n",
       "      <th>10</th>\n",
       "      <th>...</th>\n",
       "      <th>51</th>\n",
       "      <th>52</th>\n",
       "      <th>53</th>\n",
       "      <th>54</th>\n",
       "      <th>55</th>\n",
       "      <th>56</th>\n",
       "      <th>57</th>\n",
       "      <th>58</th>\n",
       "      <th>59</th>\n",
       "      <th>60</th>\n",
       "    </tr>\n",
       "  </thead>\n",
       "  <tbody>\n",
       "    <tr>\n",
       "      <th>53</th>\n",
       "      <td>0.0293</td>\n",
       "      <td>0.0378</td>\n",
       "      <td>0.0257</td>\n",
       "      <td>0.0062</td>\n",
       "      <td>0.013</td>\n",
       "      <td>0.0612</td>\n",
       "      <td>0.0895</td>\n",
       "      <td>0.1107</td>\n",
       "      <td>0.0973</td>\n",
       "      <td>0.0751</td>\n",
       "      <td>...</td>\n",
       "      <td>0.0076</td>\n",
       "      <td>0.0065</td>\n",
       "      <td>0.0072</td>\n",
       "      <td>0.0108</td>\n",
       "      <td>0.0051</td>\n",
       "      <td>0.0102</td>\n",
       "      <td>0.0041</td>\n",
       "      <td>0.0055</td>\n",
       "      <td>0.005</td>\n",
       "      <td>0.0087</td>\n",
       "    </tr>\n",
       "  </tbody>\n",
       "</table>\n",
       "<p>1 rows × 60 columns</p>\n",
       "</div>"
      ],
      "text/plain": [
       "         1       2       3       4      5       6       7       8       9  \\\n",
       "53  0.0293  0.0378  0.0257  0.0062  0.013  0.0612  0.0895  0.1107  0.0973   \n",
       "\n",
       "        10   ...        51      52      53      54      55      56      57  \\\n",
       "53  0.0751   ...    0.0076  0.0065  0.0072  0.0108  0.0051  0.0102  0.0041   \n",
       "\n",
       "        58     59      60  \n",
       "53  0.0055  0.005  0.0087  \n",
       "\n",
       "[1 rows x 60 columns]"
      ]
     },
     "execution_count": 14,
     "metadata": {},
     "output_type": "execute_result"
    }
   ],
   "source": [
    "x_test.head(1)"
   ]
  },
  {
   "cell_type": "code",
   "execution_count": 15,
   "metadata": {},
   "outputs": [
    {
     "data": {
      "text/html": [
       "<div>\n",
       "<style scoped>\n",
       "    .dataframe tbody tr th:only-of-type {\n",
       "        vertical-align: middle;\n",
       "    }\n",
       "\n",
       "    .dataframe tbody tr th {\n",
       "        vertical-align: top;\n",
       "    }\n",
       "\n",
       "    .dataframe thead th {\n",
       "        text-align: right;\n",
       "    }\n",
       "</style>\n",
       "<table border=\"1\" class=\"dataframe\">\n",
       "  <thead>\n",
       "    <tr style=\"text-align: right;\">\n",
       "      <th></th>\n",
       "      <th>output</th>\n",
       "    </tr>\n",
       "  </thead>\n",
       "  <tbody>\n",
       "    <tr>\n",
       "      <th>53</th>\n",
       "      <td>-1</td>\n",
       "    </tr>\n",
       "  </tbody>\n",
       "</table>\n",
       "</div>"
      ],
      "text/plain": [
       "    output\n",
       "53      -1"
      ]
     },
     "execution_count": 15,
     "metadata": {},
     "output_type": "execute_result"
    }
   ],
   "source": [
    "y_test.head(1)"
   ]
  },
  {
   "cell_type": "code",
   "execution_count": 16,
   "metadata": {},
   "outputs": [],
   "source": [
    "class Perceptron:\n",
    "    def __init__(self):\n",
    "        pass\n",
    "    \n",
    "    def fit(self,X,y, epochs = 15):\n",
    "        X = X.values.tolist()\n",
    "        y = y.values.tolist()\n",
    "        self.weights = [random.uniform(-1,1) for x in range(len(X[0]))]\n",
    "        self.X = X\n",
    "        self.y = y\n",
    "        self.totalErrors = []\n",
    "        self.pocketErrors = []\n",
    "        self.errors = []\n",
    "        \n",
    "        \n",
    "        self.__finalizedWeights__ = {}\n",
    "        te = self.__calculateError__()\n",
    "        self.__finalizedWeights__[te] = self.weights\n",
    "        self.pocketErrors.append(te)\n",
    "        \n",
    "        for i in range(epochs):\n",
    "            errorCounter = 0\n",
    "            for j in range(len(X)):\n",
    "                temp = np.dot(X[j],self.weights)\n",
    "                sign = 1 if temp > 0 else -1\n",
    "                \n",
    "                if sign != y[j][0]:\n",
    "                    errorCounter = errorCounter + 1\n",
    "                    self.weights = np.add(self.weights,np.multiply(X[j],y[j]))\n",
    "                    nextError = self.__calculateError__()\n",
    "                    self.__finalizedWeights__[nextError] = self.weights\n",
    "                    if nextError < min(self.pocketErrors) :\n",
    "                        self.pocketErrors.append(nextError)\n",
    "                        pass\n",
    "                    else:\n",
    "                        self.pocketErrors.append(self.pocketErrors[-1])\n",
    "                        pass\n",
    "                    self.totalErrors.append(errorCounter)\n",
    "                else:\n",
    "                    pass\n",
    "            self.errors.append(errorCounter)\n",
    "        self.weights = self.__finalizedWeights__[min(self.__finalizedWeights__, key=int)]\n",
    "        pass\n",
    "    \n",
    "    def __calculateError__(self):\n",
    "        errorCounter = 0\n",
    "        for index in range(len(self.X)):\n",
    "            temp = np.dot(self.X[index],self.weights)\n",
    "            sign = 1 if temp > 0 else -1\n",
    "            \n",
    "            if sign != self.y[index][0]:\n",
    "                errorCounter = errorCounter + 1\n",
    "        return errorCounter\n",
    "        pass\n",
    "    \n",
    "    def predict(self,test):\n",
    "        test = test.values.tolist()\n",
    "        ans = []\n",
    "        for index,value in enumerate(test):\n",
    "            temp = np.dot(test[index],self.weights)\n",
    "            predicted = 1 if temp > 0 else -1\n",
    "            ans.append(predicted)\n",
    "        return ans\n",
    "        pass\n",
    "    "
   ]
  },
  {
   "cell_type": "code",
   "execution_count": 17,
   "metadata": {},
   "outputs": [],
   "source": [
    "model = Perceptron()"
   ]
  },
  {
   "cell_type": "code",
   "execution_count": 18,
   "metadata": {
    "scrolled": true
   },
   "outputs": [],
   "source": [
    "model.fit(x_train,y_train,epoches)"
   ]
  },
  {
   "cell_type": "code",
   "execution_count": 19,
   "metadata": {
    "scrolled": true
   },
   "outputs": [],
   "source": [
    "predictedValues = model.predict(x_test)"
   ]
  },
  {
   "cell_type": "code",
   "execution_count": 20,
   "metadata": {},
   "outputs": [
    {
     "data": {
      "text/plain": [
       "'Accuracy is = 63.76811594202898 %'"
      ]
     },
     "execution_count": 20,
     "metadata": {},
     "output_type": "execute_result"
    }
   ],
   "source": [
    "f\"Accuracy is = {accuracy_score(y_test,predictedValues)*100} %\""
   ]
  },
  {
   "cell_type": "markdown",
   "metadata": {},
   "source": [
    "### If you see the value of accuracy then you will notice that the accuracy is less then Perceptron Algorithm. This is because the model has overfitted the data. If we consider the accuracy on training data then pocket algorithm clearly wins but on test data perceptron alogrithm wins. So which algorithm to use is based on data.\n",
    "\n",
    "### Link to Perceptron Algorithm https://github.com/NikhilAshodariya/Machine-Learning/blob/master/Perceptron.ipynb"
   ]
  },
  {
   "cell_type": "code",
   "execution_count": 21,
   "metadata": {},
   "outputs": [
    {
     "data": {
      "image/png": "[encoded data removed]",
      "text/plain": [
       "<matplotlib.figure.Figure at 0x22e439c17b8>"
      ]
     },
     "metadata": {},
     "output_type": "display_data"
    }
   ],
   "source": [
    "plt.title(\"Error rate using Pocket Algorithm\",fontsize=18, color='Blue')\n",
    "plt.xlabel(f\"Epoches * misclassification = {len(model.pocketErrors)}\",fontsize=14, color='red')\n",
    "plt.ylabel(\"Error\",fontsize=14, color='red')\n",
    "plt.plot([i+1 for i,v in enumerate(model.pocketErrors)],model.pocketErrors,color='orange')\n",
    "plt.text(15,-3,f\"Here i am displaying error per epoch and per misclassification\",fontsize=13)\n",
    "plt.grid(True)\n",
    "plt.show()"
   ]
  },
  {
   "cell_type": "markdown",
   "metadata": {},
   "source": [
    "### The above graph shows the error rate of pocket algorithm per epoch the error made in each sample of the dataset. We can see that in pocket algorithm the error either remains same or decrease it never increases like perceptron. "
   ]
  },
  {
   "cell_type": "code",
   "execution_count": 22,
   "metadata": {},
   "outputs": [
    {
     "data": {
      "image/png": "[encoded data removed]",
      "text/plain": [
       "<matplotlib.figure.Figure at 0x22e43e22e10>"
      ]
     },
     "metadata": {},
     "output_type": "display_data"
    }
   ],
   "source": [
    "plt.title(\"Error rate using perceptron\",fontsize=18, color='Blue')\n",
    "plt.xlabel(\"Epoches\",fontsize=14, color='red')\n",
    "plt.ylabel(\"Error\",fontsize=14, color='red')\n",
    "plt.plot([i+1 for i,v in enumerate(model.errors)],model.errors,color='orange')\n",
    "plt.grid(True)\n",
    "plt.text(1,1,f\"Here i am displaying error per epoches for displaying error rate clearly\",fontsize=13)\n",
    "plt.show()"
   ]
  },
  {
   "cell_type": "markdown",
   "metadata": {},
   "source": [
    "### In the above graph I have shown the error rate per epoch instead of per sample of dataset in a epoch for better visibility"
   ]
  },
  {
   "cell_type": "code",
   "execution_count": 23,
   "metadata": {},
   "outputs": [
    {
     "data": {
      "image/png": "[encoded data removed]",
      "text/plain": [
       "<matplotlib.figure.Figure at 0x22e443498d0>"
      ]
     },
     "metadata": {},
     "output_type": "display_data"
    }
   ],
   "source": [
    "# Error rate using Pocket Algorithm\n",
    "plt.subplot(1, 2, 1)\n",
    "plt.title(\"Error rate using Pocket Algorithm\",fontsize=18, color='Brown')\n",
    "plt.xlabel(f\"Epoches * misclassification = {len(model.pocketErrors)}\",fontsize=14, color='red')\n",
    "plt.ylabel(\"Error\",fontsize=14, color='red')\n",
    "plt.plot([i+1 for i,v in enumerate(model.pocketErrors)],model.pocketErrors,color='orange')\n",
    "plt.grid(True)\n",
    "\n",
    "\n",
    "# Error rate using Perceptron\n",
    "plt.subplot(1,2,2)\n",
    "plt.title(\"Error rate using perceptron\",fontsize=18, color='Brown')\n",
    "plt.xlabel(\"Epoches * misclassification\",fontsize=14, color='red')\n",
    "plt.ylabel(\"Error\",fontsize=14, color='red')\n",
    "plt.plot([i+1 for i,v in enumerate(model.totalErrors)],model.totalErrors,color='blue')\n",
    "plt.grid(True)\n",
    "\n",
    "fig = plt.gcf()\n",
    "fig.savefig('test2png.png', dpi=100)\n",
    "fig.set_size_inches(16, 7, forward=True)\n",
    "plt.show()"
   ]
  },
  {
   "cell_type": "markdown",
   "metadata": {},
   "source": [
    "### In the above graph i have shown error rate of both Pocket algorithm and Perceptron. The graph is ploted Error vs misclassification per epoch"
   ]
  },
  {
   "cell_type": "code",
   "execution_count": 24,
   "metadata": {
    "scrolled": true
   },
   "outputs": [
    {
     "data": {
      "text/plain": [
       "array([ -2.31523979,   2.17555973,  -6.62485303,   0.86686635,\n",
       "        -0.17544007,   2.47318951,  -2.84112424, -15.87799215,\n",
       "         4.39053284,  12.80750542,  13.00739442,  15.98325853,\n",
       "         8.04573724,  -2.48840779,  -6.41372514,   2.65799706,\n",
       "        -5.22332761,   0.29369793,   2.23070162, -14.8356174 ,\n",
       "         3.73008277,   9.93964516,  -5.07735402,   6.53480671,\n",
       "        -7.09855479,  -5.18175204,  -3.0044474 ,   1.76471026,\n",
       "         3.35230309,   4.62518246, -24.76763602,  15.25307014,\n",
       "         0.26572521, -10.91043649,   2.50188384,   1.55333856,\n",
       "       -13.10368277,   0.29972381,   6.18339889, -13.52389709,\n",
       "        -3.90410971,  -0.29885631,  12.98576399,  17.49627091,\n",
       "        13.81722403,   9.49144201,   5.23856812,  14.57415838,\n",
       "        13.24836004,  -0.83033605,   4.50681105,   1.13202066,\n",
       "         0.86832603,   3.536139  ,  -0.6083765 ,   0.52507395,\n",
       "        -3.46343351,   0.03757448,  -0.25814755,   0.22068051])"
      ]
     },
     "execution_count": 24,
     "metadata": {},
     "output_type": "execute_result"
    }
   ],
   "source": [
    "model.weights"
   ]
  },
  {
   "cell_type": "code",
   "execution_count": 25,
   "metadata": {
    "scrolled": true
   },
   "outputs": [
    {
     "data": {
      "text/plain": [
       "array([74, 71, 71, ..., 13, 13, 13])"
      ]
     },
     "execution_count": 25,
     "metadata": {},
     "output_type": "execute_result"
    }
   ],
   "source": [
    "np.asarray(model.pocketErrors)"
   ]
  },
  {
   "cell_type": "code",
   "execution_count": null,
   "metadata": {},
   "outputs": [],
   "source": []
  },
  {
   "cell_type": "code",
   "execution_count": null,
   "metadata": {},
   "outputs": [],
   "source": []
  }
 ],
 "metadata": {
  "kernelspec": {
   "display_name": "Python [conda env:Anaconda3]",
   "language": "python",
   "name": "conda-env-Anaconda3-py"
  },
  "language_info": {
   "codemirror_mode": {
    "name": "ipython",
    "version": 3
   },
   "file_extension": ".py",
   "mimetype": "text/x-python",
   "name": "python",
   "nbconvert_exporter": "python",
   "pygments_lexer": "ipython3",
   "version": "3.6.5"
  }
 },
 "nbformat": 4,
 "nbformat_minor": 2
}
