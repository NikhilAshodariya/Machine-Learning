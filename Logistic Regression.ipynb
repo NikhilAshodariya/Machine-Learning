{
 "cells": [
  {
   "cell_type": "markdown",
   "metadata": {},
   "source": []
  },
  {
   "cell_type": "code",
   "execution_count": 104,
   "metadata": {
    "collapsed": false
   },
   "outputs": [],
   "source": [
    "#importing libraries\n",
    "import numpy as np\n",
    "import pandas as pd\n",
    "import seaborn as sns\n",
    "import matplotlib.pyplot as plt\n",
    "from sklearn import linear_model, datasets, tree\n",
    "from sklearn.preprocessing import LabelEncoder\n",
    "from sklearn.linear_model import LogisticRegression\n",
    "\n",
    "% matplotlib inline"
   ]
  },
  {
   "cell_type": "code",
   "execution_count": 105,
   "metadata": {
    "collapsed": false
   },
   "outputs": [
    {
     "data": {
      "text/html": [
       "<div>\n",
       "<table border=\"1\" class=\"dataframe\">\n",
       "  <thead>\n",
       "    <tr style=\"text-align: right;\">\n",
       "      <th></th>\n",
       "      <th>sepal_length</th>\n",
       "      <th>sepal_width</th>\n",
       "      <th>petal_length</th>\n",
       "      <th>petal_width</th>\n",
       "      <th>species</th>\n",
       "    </tr>\n",
       "  </thead>\n",
       "  <tbody>\n",
       "    <tr>\n",
       "      <th>137</th>\n",
       "      <td>6.4</td>\n",
       "      <td>3.1</td>\n",
       "      <td>5.5</td>\n",
       "      <td>1.8</td>\n",
       "      <td>virginica</td>\n",
       "    </tr>\n",
       "    <tr>\n",
       "      <th>31</th>\n",
       "      <td>5.4</td>\n",
       "      <td>3.4</td>\n",
       "      <td>1.5</td>\n",
       "      <td>0.4</td>\n",
       "      <td>setosa</td>\n",
       "    </tr>\n",
       "    <tr>\n",
       "      <th>47</th>\n",
       "      <td>4.6</td>\n",
       "      <td>3.2</td>\n",
       "      <td>1.4</td>\n",
       "      <td>0.2</td>\n",
       "      <td>setosa</td>\n",
       "    </tr>\n",
       "  </tbody>\n",
       "</table>\n",
       "</div>"
      ],
      "text/plain": [
       "     sepal_length  sepal_width  petal_length  petal_width    species\n",
       "137           6.4          3.1           5.5          1.8  virginica\n",
       "31            5.4          3.4           1.5          0.4     setosa\n",
       "47            4.6          3.2           1.4          0.2     setosa"
      ]
     },
     "execution_count": 105,
     "metadata": {},
     "output_type": "execute_result"
    }
   ],
   "source": [
    "iris = sns.load_dataset('iris')\n",
    "iris.sample(3)"
   ]
  },
  {
   "cell_type": "code",
   "execution_count": 106,
   "metadata": {
    "collapsed": true
   },
   "outputs": [],
   "source": [
    "columns=['sepal_length','species']\n",
    "species=['setosa','virginica']"
   ]
  },
  {
   "cell_type": "code",
   "execution_count": 107,
   "metadata": {
    "collapsed": false
   },
   "outputs": [
    {
     "data": {
      "text/html": [
       "<div>\n",
       "<table border=\"1\" class=\"dataframe\">\n",
       "  <thead>\n",
       "    <tr style=\"text-align: right;\">\n",
       "      <th></th>\n",
       "      <th>sepal_length</th>\n",
       "      <th>species</th>\n",
       "    </tr>\n",
       "  </thead>\n",
       "  <tbody>\n",
       "    <tr>\n",
       "      <th>118</th>\n",
       "      <td>7.7</td>\n",
       "      <td>virginica</td>\n",
       "    </tr>\n",
       "    <tr>\n",
       "      <th>131</th>\n",
       "      <td>7.9</td>\n",
       "      <td>virginica</td>\n",
       "    </tr>\n",
       "    <tr>\n",
       "      <th>20</th>\n",
       "      <td>5.4</td>\n",
       "      <td>setosa</td>\n",
       "    </tr>\n",
       "  </tbody>\n",
       "</table>\n",
       "</div>"
      ],
      "text/plain": [
       "     sepal_length    species\n",
       "118           7.7  virginica\n",
       "131           7.9  virginica\n",
       "20            5.4     setosa"
      ]
     },
     "execution_count": 107,
     "metadata": {},
     "output_type": "execute_result"
    }
   ],
   "source": [
    "iris=iris[columns]\n",
    "iris=iris.loc[iris['species'].isin(species)]\n",
    "iris.sample(3)"
   ]
  },
  {
   "cell_type": "code",
   "execution_count": 108,
   "metadata": {
    "collapsed": false
   },
   "outputs": [
    {
     "data": {
      "text/plain": [
       "['setosa', 'virginica']"
      ]
     },
     "execution_count": 108,
     "metadata": {},
     "output_type": "execute_result"
    }
   ],
   "source": [
    "encoder = LabelEncoder()\n",
    "encoder.fit(iris['species'])\n",
    "list(encoder.classes_)"
   ]
  },
  {
   "cell_type": "code",
   "execution_count": 109,
   "metadata": {
    "collapsed": true
   },
   "outputs": [],
   "source": [
    "transformed=encoder.transform(iris['species'])\n",
    "iris['species']=transformed\n"
   ]
  },
  {
   "cell_type": "code",
   "execution_count": 110,
   "metadata": {
    "collapsed": false
   },
   "outputs": [
    {
     "data": {
      "text/html": [
       "<div>\n",
       "<table border=\"1\" class=\"dataframe\">\n",
       "  <thead>\n",
       "    <tr style=\"text-align: right;\">\n",
       "      <th></th>\n",
       "      <th>sepal_length</th>\n",
       "      <th>species</th>\n",
       "    </tr>\n",
       "  </thead>\n",
       "  <tbody>\n",
       "    <tr>\n",
       "      <th>102</th>\n",
       "      <td>7.1</td>\n",
       "      <td>1</td>\n",
       "    </tr>\n",
       "    <tr>\n",
       "      <th>17</th>\n",
       "      <td>5.1</td>\n",
       "      <td>0</td>\n",
       "    </tr>\n",
       "    <tr>\n",
       "      <th>107</th>\n",
       "      <td>7.3</td>\n",
       "      <td>1</td>\n",
       "    </tr>\n",
       "  </tbody>\n",
       "</table>\n",
       "</div>"
      ],
      "text/plain": [
       "     sepal_length  species\n",
       "102           7.1        1\n",
       "17            5.1        0\n",
       "107           7.3        1"
      ]
     },
     "execution_count": 110,
     "metadata": {},
     "output_type": "execute_result"
    }
   ],
   "source": [
    "iris.sample(3)"
   ]
  },
  {
   "cell_type": "code",
   "execution_count": 111,
   "metadata": {
    "collapsed": false
   },
   "outputs": [
    {
     "data": {
      "image/png": "[encoded data removed]",
      "text/plain": [
       "<matplotlib.figure.Figure at 0x931a610>"
      ]
     },
     "metadata": {},
     "output_type": "display_data"
    }
   ],
   "source": [
    "plt.scatter(iris['sepal_length'],iris['species'])\n",
    "plt.show()"
   ]
  },
  {
   "cell_type": "code",
   "execution_count": 112,
   "metadata": {
    "collapsed": true
   },
   "outputs": [],
   "source": [
    "def logit(x):\n",
    "    return (np.log(x)-np.log(1-x))"
   ]
  },
  {
   "cell_type": "code",
   "execution_count": 113,
   "metadata": {
    "collapsed": true
   },
   "outputs": [],
   "source": [
    "def logistic(x,max_length=1,steepness=1):\n",
    "    #mid=np.mean(x)\n",
    "    mid=np.mean(x)\n",
    "    return max_length/(1+np.exp(-steepness*(x-mid)))"
   ]
  },
  {
   "cell_type": "code",
   "execution_count": 114,
   "metadata": {
    "collapsed": false
   },
   "outputs": [
    {
     "data": {
      "image/png": "[encoded data removed]",
      "text/plain": [
       "<matplotlib.figure.Figure at 0x9511c70>"
      ]
     },
     "metadata": {},
     "output_type": "display_data"
    }
   ],
   "source": [
    "x = np.arange(4.3, 8, 0.01)\n",
    "plt.plot(x,logistic(x))\n",
    "plt.show()\n"
   ]
  },
  {
   "cell_type": "code",
   "execution_count": 115,
   "metadata": {
    "collapsed": false
   },
   "outputs": [
    {
     "data": {
      "image/png": "[encoded data removed]",
      "text/plain": [
       "<matplotlib.figure.Figure at 0x9575b10>"
      ]
     },
     "metadata": {},
     "output_type": "display_data"
    }
   ],
   "source": [
    "plt.scatter(iris['sepal_length'],iris['species'],color='black')\n",
    "plt.plot(x,logistic(x),color='blue') # this is the logistic plot\n",
    "plt.show()\n",
    "#iris['sepal_length'][:20]"
   ]
  },
  {
   "cell_type": "code",
   "execution_count": 116,
   "metadata": {
    "collapsed": true
   },
   "outputs": [],
   "source": [
    "X=np.asmatrix(iris['sepal_length']).transpose()\n",
    "y=np.asmatrix(iris['species']).transpose()"
   ]
  },
  {
   "cell_type": "code",
   "execution_count": 117,
   "metadata": {
    "collapsed": false
   },
   "outputs": [
    {
     "name": "stderr",
     "output_type": "stream",
     "text": [
      "C:\\ProgramData\\Anaconda3\\lib\\site-packages\\sklearn\\utils\\validation.py:526: DataConversionWarning: A column-vector y was passed when a 1d array was expected. Please change the shape of y to (n_samples, ), for example using ravel().\n",
      "  y = column_or_1d(y, warn=True)\n"
     ]
    },
    {
     "data": {
      "text/plain": [
       "LogisticRegression(C=1.0, class_weight=None, dual=False, fit_intercept=True,\n",
       "          intercept_scaling=1, max_iter=100, multi_class='ovr', n_jobs=1,\n",
       "          penalty='l2', random_state=None, solver='liblinear', tol=0.0001,\n",
       "          verbose=0, warm_start=False)"
      ]
     },
     "execution_count": 117,
     "metadata": {},
     "output_type": "execute_result"
    }
   ],
   "source": [
    "lr=LogisticRegression()\n",
    "lr.fit(X,y)"
   ]
  },
  {
   "cell_type": "code",
   "execution_count": 118,
   "metadata": {
    "collapsed": false
   },
   "outputs": [
    {
     "data": {
      "text/plain": [
       "array([-4.11618943])"
      ]
     },
     "execution_count": 118,
     "metadata": {},
     "output_type": "execute_result"
    }
   ],
   "source": [
    "beta0=lr.intercept_\n",
    "beta0"
   ]
  },
  {
   "cell_type": "code",
   "execution_count": 119,
   "metadata": {
    "collapsed": false
   },
   "outputs": [
    {
     "data": {
      "text/plain": [
       "array([[ 0.74360247]])"
      ]
     },
     "execution_count": 119,
     "metadata": {},
     "output_type": "execute_result"
    }
   ],
   "source": [
    "beta1=lr.coef_\n",
    "beta1"
   ]
  },
  {
   "cell_type": "code",
   "execution_count": 120,
   "metadata": {
    "collapsed": true
   },
   "outputs": [],
   "source": [
    "def predict_prob(x):\n",
    "    exponent = np.exp(beta0[0] + beta1[0] * x)\n",
    "    return exponent / (1 + exponent)"
   ]
  },
  {
   "cell_type": "code",
   "execution_count": 121,
   "metadata": {
    "collapsed": false
   },
   "outputs": [],
   "source": [
    "def odds(x):\n",
    "    return x / (1 - x)\n"
   ]
  },
  {
   "cell_type": "markdown",
   "metadata": {},
   "source": [
    "##### displaying the results\n"
   ]
  },
  {
   "cell_type": "code",
   "execution_count": 125,
   "metadata": {
    "collapsed": false
   },
   "outputs": [
    {
     "data": {
      "text/html": [
       "<table>\n",
       "    <tr>\n",
       "        <th>sepal_length</th>\n",
       "        <th>$\\hat{p}$</th>\n",
       "        <th>$1 - \\hat{p}$</th>\n",
       "        <th>odds</th>\n",
       "    </tr>\n",
       "    <tr>\n",
       "        <td>6.3</td>\n",
       "        <td>0.64</td>\n",
       "        <td>0.36</td>\n",
       "        <td>1.77777777778</td>\n",
       "    </tr>\n",
       "    <tr>\n",
       "        <td>7.3</td>\n",
       "        <td>0.79</td>\n",
       "        <td>0.21</td>\n",
       "        <td>3.7619047619</td>\n",
       "    </tr>\n",
       "    <tr>\n",
       "        <td>5.9</td>\n",
       "        <td>0.57</td>\n",
       "        <td>0.43</td>\n",
       "        <td>1.32558139535</td>\n",
       "    </tr>\n",
       "    <tr>\n",
       "        <td>6.4</td>\n",
       "        <td>0.66</td>\n",
       "        <td>0.34</td>\n",
       "        <td>1.94117647059</td>\n",
       "    </tr>\n",
       "    <tr>\n",
       "        <td>6.5</td>\n",
       "        <td>0.67</td>\n",
       "        <td>0.33</td>\n",
       "        <td>2.0303030303</td>\n",
       "    </tr>\n",
       "    <tr>\n",
       "        <td>4.9</td>\n",
       "        <td>0.38</td>\n",
       "        <td>0.62</td>\n",
       "        <td>0.612903225806</td>\n",
       "    </tr>\n",
       "    <tr>\n",
       "        <td>4.3</td>\n",
       "        <td>0.29</td>\n",
       "        <td>0.71</td>\n",
       "        <td>0.408450704225</td>\n",
       "    </tr>\n",
       "    <tr>\n",
       "        <td>5.0</td>\n",
       "        <td>0.4</td>\n",
       "        <td>0.6</td>\n",
       "        <td>0.666666666667</td>\n",
       "    </tr>\n",
       "    <tr>\n",
       "        <td>4.8</td>\n",
       "        <td>0.37</td>\n",
       "        <td>0.63</td>\n",
       "        <td>0.587301587302</td>\n",
       "    </tr>\n",
       "    <tr>\n",
       "        <td>5.0</td>\n",
       "        <td>0.4</td>\n",
       "        <td>0.6</td>\n",
       "        <td>0.666666666667</td>\n",
       "    </tr>\n",
       "    <tr>\n",
       "        <td>6.2</td>\n",
       "        <td>0.62</td>\n",
       "        <td>0.38</td>\n",
       "        <td>1.63157894737</td>\n",
       "    </tr>\n",
       "    <tr>\n",
       "        <td>6.3</td>\n",
       "        <td>0.64</td>\n",
       "        <td>0.36</td>\n",
       "        <td>1.77777777778</td>\n",
       "    </tr>\n",
       "    <tr>\n",
       "        <td>5.0</td>\n",
       "        <td>0.4</td>\n",
       "        <td>0.6</td>\n",
       "        <td>0.666666666667</td>\n",
       "    </tr>\n",
       "    <tr>\n",
       "        <td>4.8</td>\n",
       "        <td>0.37</td>\n",
       "        <td>0.63</td>\n",
       "        <td>0.587301587302</td>\n",
       "    </tr>\n",
       "    <tr>\n",
       "        <td>6.3</td>\n",
       "        <td>0.64</td>\n",
       "        <td>0.36</td>\n",
       "        <td>1.77777777778</td>\n",
       "    </tr>\n",
       "</table>"
      ],
      "text/plain": [
       "<IPython.core.display.HTML object>"
      ]
     },
     "metadata": {},
     "output_type": "display_data"
    }
   ],
   "source": [
    "from IPython.display import display\n",
    "import prettytable as pt\n",
    "\n",
    "from IPython.core.display import display, HTML\n",
    "\n",
    "table = pt.PrettyTable(['sepal_length', '$\\hat{p}$', '$1 - \\hat{p}$', 'odds'])\n",
    "part=iris.sample(15)\n",
    "p=predict_prob(part['sepal_length'])\n",
    "part['p']=np.round(p,2)\n",
    "\n",
    "for SL,F,P in part.values: \n",
    "       table.add_row([SL,P, 1-P, odds(P)])\n",
    "display(HTML(table.get_html_string()))\n",
    "# as the value of sepal_length increases it tell that the iris is more of virginica"
   ]
  },
  {
   "cell_type": "code",
   "execution_count": null,
   "metadata": {
    "collapsed": false
   },
   "outputs": [],
   "source": []
  },
  {
   "cell_type": "code",
   "execution_count": null,
   "metadata": {
    "collapsed": false
   },
   "outputs": [],
   "source": []
  },
  {
   "cell_type": "code",
   "execution_count": null,
   "metadata": {
    "collapsed": false,
    "scrolled": true
   },
   "outputs": [],
   "source": []
  },
  {
   "cell_type": "code",
   "execution_count": null,
   "metadata": {
    "collapsed": true
   },
   "outputs": [],
   "source": []
  },
  {
   "cell_type": "code",
   "execution_count": null,
   "metadata": {
    "collapsed": true
   },
   "outputs": [],
   "source": []
  }
 ],
 "metadata": {
  "kernelspec": {
   "display_name": "Python 3",
   "language": "python",
   "name": "python3"
  },
  "language_info": {
   "codemirror_mode": {
    "name": "ipython",
    "version": 3
   },
   "file_extension": ".py",
   "mimetype": "text/x-python",
   "name": "python",
   "nbconvert_exporter": "python",
   "pygments_lexer": "ipython3",
   "version": "3.6.0"
  }
 },
 "nbformat": 4,
 "nbformat_minor": 2
}
