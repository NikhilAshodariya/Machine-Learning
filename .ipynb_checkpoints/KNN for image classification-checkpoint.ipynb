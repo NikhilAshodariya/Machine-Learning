{
 "cells": [
  {
   "cell_type": "code",
   "execution_count": 1,
   "metadata": {
    "collapsed": true
   },
   "outputs": [],
   "source": [
    "import numpy as np\n",
    "import pickle\n",
    "from operator import itemgetter\n",
    "from collections import Counter\n",
    "from KNN_Classifier import KNN\n",
    "from sklearn.metrics import accuracy_score\n",
    "from PIL import Image\n",
    "from prettytable import PrettyTable"
   ]
  },
  {
   "cell_type": "code",
   "execution_count": 2,
   "metadata": {
    "collapsed": true
   },
   "outputs": [],
   "source": [
    "class KNN:\n",
    "\n",
    "    def __init__(self,k=5):\n",
    "        self.k = k\n",
    "        pass\n",
    "\n",
    "    def fit(self,train_x, train_y):\n",
    "        if len(train_x)!=len(train_y):\n",
    "            raise IndexError('Length is different')\n",
    "        else:\n",
    "            self.train_x = train_x\n",
    "            self.train_y = train_y\n",
    "\n",
    "\n",
    "    def predict(self,test_x,verbose=True):\n",
    "        predicted = []\n",
    "        for index,test_item in enumerate(test_x):\n",
    "            near_distance = []\n",
    "            neighbours = []\n",
    "            for item_index,train_item in enumerate(self.train_x):\n",
    "                distance = self.calculate_eucliden_distance(test_item,train_item)\n",
    "                near_distance.append([distance,item_index])\n",
    "\n",
    "            sorted_distance_list = sorted(near_distance, key=itemgetter(0))\n",
    "\n",
    "            neighbours = [sorted_distance_list[i] for i in range(0,self.k)]  # 1 is the index and zero is the distance\n",
    "            elements_temp = [self.train_y[i[1]] for i in neighbours]\n",
    "            intermediate = dict(Counter(elements_temp))\n",
    "            result = max(intermediate.items(), key= itemgetter(1))\n",
    "            predicted.append(result[0])\n",
    "            if verbose:\n",
    "                print('working ',index,'.........')\n",
    "        return predicted\n",
    "\n",
    "    def calculate_eucliden_distance(self,item_1, item_2):\n",
    "        if len(item_1)!=len(item_2):\n",
    "            raise IndexError('Length is different')\n",
    "        else:\n",
    "            result = np.mean(np.sqrt(np.square(np.subtract(item_1,item_2))))\n",
    "            return result\n",
    "\n",
    "\n",
    "\n"
   ]
  },
  {
   "cell_type": "markdown",
   "metadata": {},
   "source": [
    "### getting data back from binary file i.e. pickle file"
   ]
  },
  {
   "cell_type": "code",
   "execution_count": 3,
   "metadata": {
    "collapsed": true
   },
   "outputs": [],
   "source": [
    "def unpickle(file):\n",
    "    with open(file,'rb') as fo:\n",
    "        dict = pickle.load(fo, encoding='bytes')\n",
    "    return dict"
   ]
  },
  {
   "cell_type": "code",
   "execution_count": 4,
   "metadata": {
    "collapsed": true
   },
   "outputs": [],
   "source": [
    "def get_train_data(root_path,file_names):\n",
    "    data=[]\n",
    "    for i in file_names:\n",
    "        temp = unpickle(root_path+i)\n",
    "        data.append(unpickle(root_path+i))\n",
    "\n",
    "    return data\n"
   ]
  },
  {
   "cell_type": "code",
   "execution_count": 5,
   "metadata": {
    "collapsed": true
   },
   "outputs": [],
   "source": [
    "def get_test_data(root_path,file_name):\n",
    "    return unpickle(root_path+file_name)"
   ]
  },
  {
   "cell_type": "code",
   "execution_count": 6,
   "metadata": {
    "collapsed": true
   },
   "outputs": [],
   "source": [
    "def convert_to_UTF_8(data):\n",
    "    return data.decode('UTF-8')\n"
   ]
  },
  {
   "cell_type": "markdown",
   "metadata": {},
   "source": [
    "### you need to download the python version of the dataset from \n",
    "### https://www.cs.toronto.edu/~kriz/cifar.html"
   ]
  },
  {
   "cell_type": "code",
   "execution_count": 7,
   "metadata": {
    "collapsed": true
   },
   "outputs": [],
   "source": [
    "dataset_names = ['data_batch_1','data_batch_2','data_batch_3','data_batch_4','data_batch_5']\n",
    "output_classes = ['airplane','automobile','bird','cat','deer','dog','frog','horse','ship','truck']\n",
    "root_path = '../Data/cifar-10-batches-py/'"
   ]
  },
  {
   "cell_type": "markdown",
   "metadata": {},
   "source": [
    "### getting complete training data"
   ]
  },
  {
   "cell_type": "code",
   "execution_count": 8,
   "metadata": {
    "collapsed": true
   },
   "outputs": [],
   "source": [
    "data = get_train_data(root_path,dataset_names)"
   ]
  },
  {
   "cell_type": "code",
   "execution_count": 9,
   "metadata": {
    "collapsed": true
   },
   "outputs": [],
   "source": [
    "model = KNN()"
   ]
  },
  {
   "cell_type": "code",
   "execution_count": 10,
   "metadata": {
    "collapsed": true
   },
   "outputs": [],
   "source": [
    "for i in range(0, len(data)):\n",
    "    model.fit(data[i][b'data'],data[i][b'labels'])"
   ]
  },
  {
   "cell_type": "code",
   "execution_count": 11,
   "metadata": {
    "collapsed": true
   },
   "outputs": [],
   "source": [
    "test_data = get_test_data(root_path,'test_batch')"
   ]
  },
  {
   "cell_type": "markdown",
   "metadata": {},
   "source": [
    "## Predicting the value of the test data"
   ]
  },
  {
   "cell_type": "markdown",
   "metadata": {},
   "source": [
    "### Prediction is done only for first 50 values since the dataset is very large (10,000 images) "
   ]
  },
  {
   "cell_type": "code",
   "execution_count": 12,
   "metadata": {
    "collapsed": true,
    "scrolled": true
   },
   "outputs": [],
   "source": [
    "predicted = model.predict(test_data[b'data'][:50],verbose=False)\n",
    "actual_data = test_data[b'labels'][:50]"
   ]
  },
  {
   "cell_type": "markdown",
   "metadata": {},
   "source": [
    "### converting filenames from bit to string"
   ]
  },
  {
   "cell_type": "code",
   "execution_count": 13,
   "metadata": {
    "collapsed": true
   },
   "outputs": [],
   "source": [
    "test_names = [convert_to_UTF_8(x) for x in test_data[b'filenames']]"
   ]
  },
  {
   "cell_type": "code",
   "execution_count": 14,
   "metadata": {},
   "outputs": [
    {
     "name": "stdout",
     "output_type": "stream",
     "text": [
      "---------------------predicted data----------------------\n",
      "[0, 8, 3, 0, 4, 0, 6, 6, 3, 8, 0, 9, 0, 6, 8, 4, 3, 0, 8, 2, 0, 0, 0, 0, 2, 0, 4, 0, 0, 0, 4, 2, 8, 2, 1, 4, 0, 8, 5, 0, 0, 2, 0, 4, 0, 9, 2, 9, 2, 0]\n",
      "--------------------End of predicted data----------------\n"
     ]
    }
   ],
   "source": [
    "print('---------------------predicted data----------------------')\n",
    "print(predicted)\n",
    "print('--------------------End of predicted data----------------')"
   ]
  },
  {
   "cell_type": "code",
   "execution_count": 15,
   "metadata": {},
   "outputs": [
    {
     "name": "stdout",
     "output_type": "stream",
     "text": [
      "---------------------Actual data----------------------\n",
      "[3, 8, 8, 0, 6, 6, 1, 6, 3, 1, 0, 9, 5, 7, 9, 8, 5, 7, 8, 6, 7, 0, 4, 9, 5, 2, 4, 0, 9, 6, 6, 5, 4, 5, 9, 2, 4, 1, 9, 5, 4, 6, 5, 6, 0, 9, 3, 9, 7, 6]\n",
      "--------------------End of Actual data----------------\n"
     ]
    }
   ],
   "source": [
    "print('---------------------Actual data----------------------')\n",
    "print(actual_data)\n",
    "print('--------------------End of Actual data----------------')"
   ]
  },
  {
   "cell_type": "markdown",
   "metadata": {},
   "source": [
    "### accuracy score "
   ]
  },
  {
   "cell_type": "code",
   "execution_count": 16,
   "metadata": {},
   "outputs": [
    {
     "name": "stdout",
     "output_type": "stream",
     "text": [
      "Accuracy Score ------------->  26.0 %\n"
     ]
    }
   ],
   "source": [
    "acc_score = accuracy_score(actual_data, predicted)\n",
    "print('Accuracy Score -------------> ',acc_score*100,'%')"
   ]
  },
  {
   "cell_type": "code",
   "execution_count": 17,
   "metadata": {
    "collapsed": true
   },
   "outputs": [],
   "source": [
    "imagearray = []"
   ]
  },
  {
   "cell_type": "code",
   "execution_count": 18,
   "metadata": {
    "collapsed": true
   },
   "outputs": [],
   "source": [
    "imagearray = []\n",
    "bunch_1 = test_data[b'data']"
   ]
  },
  {
   "cell_type": "markdown",
   "metadata": {},
   "source": [
    "## generating and storing image for fifty sample of test data"
   ]
  },
  {
   "cell_type": "code",
   "execution_count": 19,
   "metadata": {
    "collapsed": true
   },
   "outputs": [],
   "source": [
    "for index,i in enumerate(bunch_1):\n",
    "    if index<50:\n",
    "        r = i[:1024]\n",
    "        g = i[1024:2048]\n",
    "        b = i[2048:]\n",
    "        rgb = np.dstack((r,g,b))\n",
    "        imgarray = np.reshape(rgb,(32,32,3))\n",
    "        img = Image.fromarray(imgarray,'RGB')\n",
    "        name = 'images/'+str(index)+'.png'\n",
    "        img.save(name)\n",
    "        imagearray.append(img)"
   ]
  },
  {
   "cell_type": "code",
   "execution_count": 20,
   "metadata": {},
   "outputs": [
    {
     "data": {
      "text/plain": [
       "[<PIL.Image.Image image mode=RGB size=32x32 at 0x7FA5787632B0>,\n",
       " <PIL.Image.Image image mode=RGB size=32x32 at 0x7FA578313EB8>,\n",
       " <PIL.Image.Image image mode=RGB size=32x32 at 0x7FA57832B240>,\n",
       " <PIL.Image.Image image mode=RGB size=32x32 at 0x7FA57832B2B0>,\n",
       " <PIL.Image.Image image mode=RGB size=32x32 at 0x7FA57832B320>,\n",
       " <PIL.Image.Image image mode=RGB size=32x32 at 0x7FA57832B390>,\n",
       " <PIL.Image.Image image mode=RGB size=32x32 at 0x7FA57832B400>,\n",
       " <PIL.Image.Image image mode=RGB size=32x32 at 0x7FA57832B470>,\n",
       " <PIL.Image.Image image mode=RGB size=32x32 at 0x7FA57832B4E0>,\n",
       " <PIL.Image.Image image mode=RGB size=32x32 at 0x7FA57832B550>,\n",
       " <PIL.Image.Image image mode=RGB size=32x32 at 0x7FA57832B5C0>,\n",
       " <PIL.Image.Image image mode=RGB size=32x32 at 0x7FA57832B630>,\n",
       " <PIL.Image.Image image mode=RGB size=32x32 at 0x7FA57832B6A0>,\n",
       " <PIL.Image.Image image mode=RGB size=32x32 at 0x7FA57832B710>,\n",
       " <PIL.Image.Image image mode=RGB size=32x32 at 0x7FA57832B780>,\n",
       " <PIL.Image.Image image mode=RGB size=32x32 at 0x7FA57832B7F0>,\n",
       " <PIL.Image.Image image mode=RGB size=32x32 at 0x7FA57832B860>,\n",
       " <PIL.Image.Image image mode=RGB size=32x32 at 0x7FA57832B8D0>,\n",
       " <PIL.Image.Image image mode=RGB size=32x32 at 0x7FA57832B940>,\n",
       " <PIL.Image.Image image mode=RGB size=32x32 at 0x7FA57832B9B0>,\n",
       " <PIL.Image.Image image mode=RGB size=32x32 at 0x7FA57832BA20>,\n",
       " <PIL.Image.Image image mode=RGB size=32x32 at 0x7FA57832BA90>,\n",
       " <PIL.Image.Image image mode=RGB size=32x32 at 0x7FA57832BB00>,\n",
       " <PIL.Image.Image image mode=RGB size=32x32 at 0x7FA57832BB70>,\n",
       " <PIL.Image.Image image mode=RGB size=32x32 at 0x7FA57832BBE0>,\n",
       " <PIL.Image.Image image mode=RGB size=32x32 at 0x7FA57832BC50>,\n",
       " <PIL.Image.Image image mode=RGB size=32x32 at 0x7FA57832BCC0>,\n",
       " <PIL.Image.Image image mode=RGB size=32x32 at 0x7FA57832BD30>,\n",
       " <PIL.Image.Image image mode=RGB size=32x32 at 0x7FA57832BDA0>,\n",
       " <PIL.Image.Image image mode=RGB size=32x32 at 0x7FA57832BE10>,\n",
       " <PIL.Image.Image image mode=RGB size=32x32 at 0x7FA57832BE80>,\n",
       " <PIL.Image.Image image mode=RGB size=32x32 at 0x7FA57832BEF0>,\n",
       " <PIL.Image.Image image mode=RGB size=32x32 at 0x7FA57832BF60>,\n",
       " <PIL.Image.Image image mode=RGB size=32x32 at 0x7FA57832BFD0>,\n",
       " <PIL.Image.Image image mode=RGB size=32x32 at 0x7FA578311080>,\n",
       " <PIL.Image.Image image mode=RGB size=32x32 at 0x7FA5783110F0>,\n",
       " <PIL.Image.Image image mode=RGB size=32x32 at 0x7FA578311160>,\n",
       " <PIL.Image.Image image mode=RGB size=32x32 at 0x7FA5783111D0>,\n",
       " <PIL.Image.Image image mode=RGB size=32x32 at 0x7FA578311240>,\n",
       " <PIL.Image.Image image mode=RGB size=32x32 at 0x7FA5783112B0>,\n",
       " <PIL.Image.Image image mode=RGB size=32x32 at 0x7FA578311320>,\n",
       " <PIL.Image.Image image mode=RGB size=32x32 at 0x7FA578311390>,\n",
       " <PIL.Image.Image image mode=RGB size=32x32 at 0x7FA578311400>,\n",
       " <PIL.Image.Image image mode=RGB size=32x32 at 0x7FA578311470>,\n",
       " <PIL.Image.Image image mode=RGB size=32x32 at 0x7FA5783114E0>,\n",
       " <PIL.Image.Image image mode=RGB size=32x32 at 0x7FA578311550>,\n",
       " <PIL.Image.Image image mode=RGB size=32x32 at 0x7FA5783115C0>,\n",
       " <PIL.Image.Image image mode=RGB size=32x32 at 0x7FA578311630>,\n",
       " <PIL.Image.Image image mode=RGB size=32x32 at 0x7FA5783116A0>,\n",
       " <PIL.Image.Image image mode=RGB size=32x32 at 0x7FA578311710>]"
      ]
     },
     "execution_count": 20,
     "metadata": {},
     "output_type": "execute_result"
    }
   ],
   "source": [
    "imagearray"
   ]
  },
  {
   "cell_type": "markdown",
   "metadata": {},
   "source": [
    "### getting the actual name of the output class from number"
   ]
  },
  {
   "cell_type": "code",
   "execution_count": 21,
   "metadata": {
    "collapsed": true
   },
   "outputs": [],
   "source": [
    "predicted = [output_classes[x] for x in predicted]"
   ]
  },
  {
   "cell_type": "code",
   "execution_count": 22,
   "metadata": {
    "collapsed": true
   },
   "outputs": [],
   "source": [
    "actual_data = [output_classes[x] for x in actual_data]"
   ]
  },
  {
   "cell_type": "code",
   "execution_count": null,
   "metadata": {
    "collapsed": true
   },
   "outputs": [],
   "source": []
  },
  {
   "cell_type": "code",
   "execution_count": 23,
   "metadata": {
    "collapsed": true
   },
   "outputs": [],
   "source": [
    "table = PrettyTable([])"
   ]
  },
  {
   "cell_type": "markdown",
   "metadata": {},
   "source": [
    "### adding the name of the Image"
   ]
  },
  {
   "cell_type": "code",
   "execution_count": 24,
   "metadata": {
    "collapsed": true
   },
   "outputs": [],
   "source": [
    "table.add_column('name',test_names[:50])"
   ]
  },
  {
   "cell_type": "code",
   "execution_count": 25,
   "metadata": {
    "collapsed": true
   },
   "outputs": [],
   "source": [
    "table.add_column('predicted',predicted)"
   ]
  },
  {
   "cell_type": "code",
   "execution_count": 26,
   "metadata": {
    "collapsed": true
   },
   "outputs": [],
   "source": [
    "table.add_column('actual',actual_data)"
   ]
  },
  {
   "cell_type": "code",
   "execution_count": 27,
   "metadata": {},
   "outputs": [
    {
     "name": "stdout",
     "output_type": "stream",
     "text": [
      "+----------------------------------+------------+------------+\n",
      "|               name               | predicted  |   actual   |\n",
      "+----------------------------------+------------+------------+\n",
      "|    domestic_cat_s_000907.png     |  airplane  |    cat     |\n",
      "|      hydrofoil_s_000078.png      |    ship    |    ship    |\n",
      "|      sea_boat_s_001456.png       |    cat     |    ship    |\n",
      "|      jetliner_s_001705.png       |  airplane  |  airplane  |\n",
      "|     green_frog_s_001658.png      |    deer    |    frog    |\n",
      "|       crapaud_s_002124.png       |  airplane  |    frog    |\n",
      "|   shooting_brake_s_000973.png    |    frog    | automobile |\n",
      "|     green_frog_s_000634.png      |    frog    |    frog    |\n",
      "|      tabby_cat_s_001397.png      |    cat     |    cat     |\n",
      "|        wagon_s_002806.png        |    ship    | automobile |\n",
      "|        plane_s_000026.png        |  airplane  |  airplane  |\n",
      "|      dustcart_s_000045.png       |   truck    |   truck    |\n",
      "|     toy_spaniel_s_001592.png     |  airplane  |    dog     |\n",
      "|      lippizan_s_000752.png       |    frog    |   horse    |\n",
      "|        truck_s_000149.png        |    ship    |   truck    |\n",
      "|       dredger_s_001437.png       |    deer    |    ship    |\n",
      "|        puppy_s_001937.png        |    cat     |    dog     |\n",
      "|      cow_pony_s_000038.png       |  airplane  |   horse    |\n",
      "|        boat_s_001450.png         |    ship    |    ship    |\n",
      "|   rana_clamitans_s_000570.png    |    bird    |    frog    |\n",
      "|  tennessee_walker_s_000353.png   |  airplane  |   horse    |\n",
      "|   stealth_fighter_s_000354.png   |  airplane  |  airplane  |\n",
      "|       wapiti_s_001434.png        |  airplane  |    deer    |\n",
      "| aerial_ladder_truck_s_001218.png |  airplane  |   truck    |\n",
      "|        puppy_s_001691.png        |    bird    |    dog     |\n",
      "|      gamecock_s_000228.png       |  airplane  |    bird    |\n",
      "|         elk_s_000015.png         |    deer    |    deer    |\n",
      "|     dive_bomber_s_000184.png     |  airplane  |  airplane  |\n",
      "|    tipper_truck_s_000866.png     |  airplane  |   truck    |\n",
      "|    pickerel_frog_s_001165.png    |  airplane  |    frog    |\n",
      "|     bufo_boreas_s_000096.png     |    deer    |    frog    |\n",
      "|      pekingese_s_000608.png      |    bird    |    dog     |\n",
      "|        deer_s_001275.png         |    ship    |    deer    |\n",
      "|        puppy_s_000644.png        |    bird    |    dog     |\n",
      "|     transporter_s_000374.png     | automobile |   truck    |\n",
      "|  struthio_camelus_s_001480.png   |    deer    |    bird    |\n",
      "|    barking_deer_s_000257.png     |  airplane  |    deer    |\n",
      "|     automobile_s_001582.png      |    ship    | automobile |\n",
      "|     fire_engine_s_001468.png     |    dog     |   truck    |\n",
      "|      pekingese_s_002007.png      |  airplane  |    dog     |\n",
      "|  rangifer_tarandus_s_001009.png  |  airplane  |    deer    |\n",
      "|        frog_s_002888.png         |    bird    |    frog    |\n",
      "|  japanese_spaniel_s_000569.png   |  airplane  |    dog     |\n",
      "|       crapaud_s_001329.png       |    deer    |    frog    |\n",
      "|       biplane_s_000278.png       |  airplane  |  airplane  |\n",
      "|       camion_s_000605.png        |   truck    |   truck    |\n",
      "|       tomcat_s_002930.png        |    bird    |    cat     |\n",
      "|   tractor_trailer_s_000750.png   |   truck    |   truck    |\n",
      "|    quarter_horse_s_001535.png    |    bird    |   horse    |\n",
      "|    rana_pipiens_s_000931.png     |  airplane  |    frog    |\n",
      "+----------------------------------+------------+------------+\n"
     ]
    }
   ],
   "source": [
    "print(table)"
   ]
  },
  {
   "cell_type": "code",
   "execution_count": null,
   "metadata": {
    "collapsed": true
   },
   "outputs": [],
   "source": []
  }
 ],
 "metadata": {
  "kernelspec": {
   "display_name": "Python 3",
   "language": "python",
   "name": "python3"
  },
  "language_info": {
   "codemirror_mode": {
    "name": "ipython",
    "version": 3
   },
   "file_extension": ".py",
   "mimetype": "text/x-python",
   "name": "python",
   "nbconvert_exporter": "python",
   "pygments_lexer": "ipython3",
   "version": "3.6.2"
  }
 },
 "nbformat": 4,
 "nbformat_minor": 2
}
